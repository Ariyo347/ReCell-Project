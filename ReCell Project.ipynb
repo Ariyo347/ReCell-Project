{
 "cells": [
  {
   "cell_type": "markdown",
   "metadata": {
    "id": "p2r5o8SR4rqH"
   },
   "source": [
    "<center><img src=\"https://encrypted-tbn0.gstatic.com/images?q=tbn:ANd9GcQz66QcVOKFR0Fe_y1XJOv2kjno7nysGf3nsw&usqp=CAU\" width=\"300\" height=\"398\"></center>\n",
    "\n",
    "<font size=\"8\"><b><h2><center>Foundations Project: ReCell</center></h2></b>"
   ]
  },
  {
   "cell_type": "markdown",
   "metadata": {
    "id": "3SntBY974rqJ"
   },
   "source": [
    "## Problem Statement"
   ]
  },
  {
   "cell_type": "markdown",
   "metadata": {
    "id": "RA_GXJwuhmVz"
   },
   "source": [
    "### Business Context\n",
    "\n",
    "Buying and selling used phones and tablets used to be something that happened on a handful of online marketplace sites. But the used and refurbished device market has grown considerably over the past decade, and a new IDC (International Data Corporation) forecast predicts that the used phone market would be worth \\\\$52.7bn by 2023 with a compound annual growth rate (CAGR) of 13.6% from 2018 to 2023. This growth can be attributed to an uptick in demand for used phones and tablets that offer considerable savings compared with new models.\n",
    "\n",
    "Refurbished and used devices continue to provide cost-effective alternatives to both consumers and businesses that are looking to save money when purchasing one. There are plenty of other benefits associated with the used device market. Used and refurbished devices can be sold with warranties and can also be insured with proof of purchase. Third-party vendors/platforms, such as Verizon, Amazon, etc., provide attractive offers to customers for refurbished devices. Maximizing the longevity of devices through second-hand trade also reduces their environmental impact and helps in recycling and reducing waste. The impact of the COVID-19 outbreak may further boost this segment as consumers cut back on discretionary spending and buy phones and tablets only for immediate needs.\n",
    "\n",
    " \n",
    "### Objective\n",
    "\n",
    "The rising potential of this comparatively under-the-radar market fuels the need for an ML-based solution to develop a dynamic pricing strategy for used and refurbished devices. ReCell, a startup aiming to tap the potential in this market, has hired you as a data scientist. They want you to analyze the data provided and build a linear regression model to predict the price of a used phone/tablet and identify factors that significantly influence it.\n",
    "\n",
    " \n",
    "### Data Description\n",
    "\n",
    "The data contains the different attributes of used/refurbished phones and tablets. The data was collected in the year 2021. The detailed data dictionary is given below.\n",
    "\n",
    "\n",
    "- brand_name: Name of manufacturing brand\n",
    "- os: OS on which the device runs\n",
    "- screen_size: Size of the screen in cm\n",
    "- 4g: Whether 4G is available or not\n",
    "- 5g: Whether 5G is available or not\n",
    "- main_camera_mp: Resolution of the rear camera in megapixels\n",
    "- selfie_camera_mp: Resolution of the front camera in megapixels\n",
    "- int_memory: Amount of internal memory (ROM) in GB\n",
    "- ram: Amount of RAM in GB\n",
    "- battery: Energy capacity of the device battery in mAh\n",
    "- weight: Weight of the device in grams\n",
    "- release_year: Year when the device model was released\n",
    "- days_used: Number of days the used/refurbished device has been used\n",
    "- normalized_new_price: Normalized price of a new device of the same model in euros\n",
    "- normalized_used_price: Normalized price of the used/refurbished device in euros"
   ]
  },
  {
   "cell_type": "markdown",
   "metadata": {
    "id": "v_-uuGqH-qTt"
   },
   "source": [
    "## Importing necessary libraries"
   ]
  },
  {
   "cell_type": "code",
   "execution_count": 83,
   "metadata": {
    "colab": {
     "base_uri": "https://localhost:8080/"
    },
    "id": "zeF8YaNKDPyK",
    "outputId": "b1667ff5-acea-4602-c184-0a1a2ced8215"
   },
   "outputs": [],
   "source": [
    "# Libraries for reading and manipulating data\n",
    "import numpy as np\n",
    "import pandas as pd\n",
    "\n",
    "# Libraries for data visualization\n",
    "import matplotlib.pyplot as plt\n",
    "import seaborn as sns\n",
    "\n",
    "# Libraries to split the data into train and test\n",
    "from sklearn.model_selection import train_test_split\n",
    "\n",
    "# Libraries to build linear regression_model\n",
    "import statsmodels.api as sm\n",
    "\n",
    "# Libraries to check model performance\n",
    "from sklearn.metrics import mean_absolute_error, mean_squared_error, r2_score\n",
    "\n",
    "# To supress warnings\n",
    "import warnings\n",
    "\n",
    "warnings.filterwarnings(\"ignore\")\n",
    "from statsmodels.tools.sm_exceptions import ConvergenceWarning\n",
    "\n",
    "warnings.simplefilter(\"ignore\", ConvergenceWarning)"
   ]
  },
  {
   "cell_type": "markdown",
   "metadata": {
    "id": "xxhpZv9y-qTw"
   },
   "source": [
    "## Loading the dataset"
   ]
  },
  {
   "cell_type": "code",
   "execution_count": 84,
   "metadata": {
    "colab": {
     "base_uri": "https://localhost:8080/",
     "height": 270
    },
    "id": "ZJwX9wuc4rqL",
    "outputId": "df6189c1-9cc5-4bf8-f804-d3ffcbea214c"
   },
   "outputs": [
    {
     "data": {
      "text/html": [
       "<div>\n",
       "<style scoped>\n",
       "    .dataframe tbody tr th:only-of-type {\n",
       "        vertical-align: middle;\n",
       "    }\n",
       "\n",
       "    .dataframe tbody tr th {\n",
       "        vertical-align: top;\n",
       "    }\n",
       "\n",
       "    .dataframe thead th {\n",
       "        text-align: right;\n",
       "    }\n",
       "</style>\n",
       "<table border=\"1\" class=\"dataframe\">\n",
       "  <thead>\n",
       "    <tr style=\"text-align: right;\">\n",
       "      <th></th>\n",
       "      <th>brand_name</th>\n",
       "      <th>os</th>\n",
       "      <th>screen_size</th>\n",
       "      <th>4g</th>\n",
       "      <th>5g</th>\n",
       "      <th>main_camera_mp</th>\n",
       "      <th>selfie_camera_mp</th>\n",
       "      <th>int_memory</th>\n",
       "      <th>ram</th>\n",
       "      <th>battery</th>\n",
       "      <th>weight</th>\n",
       "      <th>release_year</th>\n",
       "      <th>days_used</th>\n",
       "      <th>normalized_used_price</th>\n",
       "      <th>normalized_new_price</th>\n",
       "    </tr>\n",
       "  </thead>\n",
       "  <tbody>\n",
       "    <tr>\n",
       "      <th>0</th>\n",
       "      <td>Honor</td>\n",
       "      <td>Android</td>\n",
       "      <td>14.50</td>\n",
       "      <td>yes</td>\n",
       "      <td>no</td>\n",
       "      <td>13.0</td>\n",
       "      <td>5.0</td>\n",
       "      <td>64.0</td>\n",
       "      <td>3.0</td>\n",
       "      <td>3020.0</td>\n",
       "      <td>146.0</td>\n",
       "      <td>2020</td>\n",
       "      <td>127</td>\n",
       "      <td>4.307572</td>\n",
       "      <td>4.715100</td>\n",
       "    </tr>\n",
       "    <tr>\n",
       "      <th>1</th>\n",
       "      <td>Honor</td>\n",
       "      <td>Android</td>\n",
       "      <td>17.30</td>\n",
       "      <td>yes</td>\n",
       "      <td>yes</td>\n",
       "      <td>13.0</td>\n",
       "      <td>16.0</td>\n",
       "      <td>128.0</td>\n",
       "      <td>8.0</td>\n",
       "      <td>4300.0</td>\n",
       "      <td>213.0</td>\n",
       "      <td>2020</td>\n",
       "      <td>325</td>\n",
       "      <td>5.162097</td>\n",
       "      <td>5.519018</td>\n",
       "    </tr>\n",
       "    <tr>\n",
       "      <th>2</th>\n",
       "      <td>Honor</td>\n",
       "      <td>Android</td>\n",
       "      <td>16.69</td>\n",
       "      <td>yes</td>\n",
       "      <td>yes</td>\n",
       "      <td>13.0</td>\n",
       "      <td>8.0</td>\n",
       "      <td>128.0</td>\n",
       "      <td>8.0</td>\n",
       "      <td>4200.0</td>\n",
       "      <td>213.0</td>\n",
       "      <td>2020</td>\n",
       "      <td>162</td>\n",
       "      <td>5.111084</td>\n",
       "      <td>5.884631</td>\n",
       "    </tr>\n",
       "    <tr>\n",
       "      <th>3</th>\n",
       "      <td>Honor</td>\n",
       "      <td>Android</td>\n",
       "      <td>25.50</td>\n",
       "      <td>yes</td>\n",
       "      <td>yes</td>\n",
       "      <td>13.0</td>\n",
       "      <td>8.0</td>\n",
       "      <td>64.0</td>\n",
       "      <td>6.0</td>\n",
       "      <td>7250.0</td>\n",
       "      <td>480.0</td>\n",
       "      <td>2020</td>\n",
       "      <td>345</td>\n",
       "      <td>5.135387</td>\n",
       "      <td>5.630961</td>\n",
       "    </tr>\n",
       "    <tr>\n",
       "      <th>4</th>\n",
       "      <td>Honor</td>\n",
       "      <td>Android</td>\n",
       "      <td>15.32</td>\n",
       "      <td>yes</td>\n",
       "      <td>no</td>\n",
       "      <td>13.0</td>\n",
       "      <td>8.0</td>\n",
       "      <td>64.0</td>\n",
       "      <td>3.0</td>\n",
       "      <td>5000.0</td>\n",
       "      <td>185.0</td>\n",
       "      <td>2020</td>\n",
       "      <td>293</td>\n",
       "      <td>4.389995</td>\n",
       "      <td>4.947837</td>\n",
       "    </tr>\n",
       "  </tbody>\n",
       "</table>\n",
       "</div>"
      ],
      "text/plain": [
       "  brand_name       os  screen_size   4g   5g  main_camera_mp  \\\n",
       "0      Honor  Android        14.50  yes   no            13.0   \n",
       "1      Honor  Android        17.30  yes  yes            13.0   \n",
       "2      Honor  Android        16.69  yes  yes            13.0   \n",
       "3      Honor  Android        25.50  yes  yes            13.0   \n",
       "4      Honor  Android        15.32  yes   no            13.0   \n",
       "\n",
       "   selfie_camera_mp  int_memory  ram  battery  weight  release_year  \\\n",
       "0               5.0        64.0  3.0   3020.0   146.0          2020   \n",
       "1              16.0       128.0  8.0   4300.0   213.0          2020   \n",
       "2               8.0       128.0  8.0   4200.0   213.0          2020   \n",
       "3               8.0        64.0  6.0   7250.0   480.0          2020   \n",
       "4               8.0        64.0  3.0   5000.0   185.0          2020   \n",
       "\n",
       "   days_used  normalized_used_price  normalized_new_price  \n",
       "0        127               4.307572              4.715100  \n",
       "1        325               5.162097              5.519018  \n",
       "2        162               5.111084              5.884631  \n",
       "3        345               5.135387              5.630961  \n",
       "4        293               4.389995              4.947837  "
      ]
     },
     "execution_count": 84,
     "metadata": {},
     "output_type": "execute_result"
    }
   ],
   "source": [
    "# loading the data and checking the data head\n",
    "data = pd.read_csv(\"C:/Users/Mr Abiona/Documents/DSBA UT/Projects/ReCell Project/used_device_data.csv\")\n",
    "\n",
    "data.head()"
   ]
  },
  {
   "cell_type": "markdown",
   "metadata": {
    "id": "UvpMDcaaMKtI"
   },
   "source": [
    "## Data Overview"
   ]
  },
  {
   "cell_type": "markdown",
   "metadata": {
    "id": "tIiCRwqZ54_C"
   },
   "source": [
    "- Observations\n",
    "- Sanity checks"
   ]
  },
  {
   "cell_type": "code",
   "execution_count": 85,
   "metadata": {
    "colab": {
     "base_uri": "https://localhost:8080/"
    },
    "id": "01hJQ7EfMKtK",
    "outputId": "1405f3cc-a05f-4c00-925d-09753f64718a"
   },
   "outputs": [
    {
     "name": "stdout",
     "output_type": "stream",
     "text": [
      "There are 3454 observations and 15 columns.\n"
     ]
    }
   ],
   "source": [
    "# checking the shape of the data\n",
    "print('There are', data.shape[0], 'observations and', data.shape[1], 'columns.')"
   ]
  },
  {
   "cell_type": "code",
   "execution_count": 86,
   "metadata": {
    "colab": {
     "base_uri": "https://localhost:8080/"
    },
    "id": "brAAAedc-uhQ",
    "outputId": "a29a4498-7111-4790-9642-d7f4f9b747b6",
    "scrolled": true
   },
   "outputs": [
    {
     "name": "stdout",
     "output_type": "stream",
     "text": [
      "<class 'pandas.core.frame.DataFrame'>\n",
      "RangeIndex: 3454 entries, 0 to 3453\n",
      "Data columns (total 15 columns):\n",
      " #   Column                 Non-Null Count  Dtype  \n",
      "---  ------                 --------------  -----  \n",
      " 0   brand_name             3454 non-null   object \n",
      " 1   os                     3454 non-null   object \n",
      " 2   screen_size            3454 non-null   float64\n",
      " 3   4g                     3454 non-null   object \n",
      " 4   5g                     3454 non-null   object \n",
      " 5   main_camera_mp         3275 non-null   float64\n",
      " 6   selfie_camera_mp       3452 non-null   float64\n",
      " 7   int_memory             3450 non-null   float64\n",
      " 8   ram                    3450 non-null   float64\n",
      " 9   battery                3448 non-null   float64\n",
      " 10  weight                 3447 non-null   float64\n",
      " 11  release_year           3454 non-null   int64  \n",
      " 12  days_used              3454 non-null   int64  \n",
      " 13  normalized_used_price  3454 non-null   float64\n",
      " 14  normalized_new_price   3454 non-null   float64\n",
      "dtypes: float64(9), int64(2), object(4)\n",
      "memory usage: 404.9+ KB\n"
     ]
    }
   ],
   "source": [
    "# checking for data information\n",
    "data.info()"
   ]
  },
  {
   "cell_type": "markdown",
   "metadata": {
    "id": "BPCNDgM7-uhR"
   },
   "source": [
    "#### Observations\n",
    "* There are 11 numeric (*float* and *int* type) and 4 string (*object* type) columns in the data\n",
    "* The are 6 columns with missing values (all are *float* type columns)\n",
    "* There are a maximum of 3454 entries"
   ]
  },
  {
   "cell_type": "code",
   "execution_count": 87,
   "metadata": {
    "colab": {
     "base_uri": "https://localhost:8080/"
    },
    "id": "uYsnom_6-uhS",
    "outputId": "62306f83-4c46-4590-9ba7-6da7dda26af2"
   },
   "outputs": [
    {
     "data": {
      "text/plain": [
       "0"
      ]
     },
     "execution_count": 87,
     "metadata": {},
     "output_type": "execute_result"
    }
   ],
   "source": [
    "# checking for duplicates\n",
    "data.duplicated().sum()"
   ]
  },
  {
   "cell_type": "markdown",
   "metadata": {
    "id": "mmBXzXDO-uhT"
   },
   "source": [
    "#### Observation:\n",
    "\n",
    "There are no duplicate entries in the data"
   ]
  },
  {
   "cell_type": "code",
   "execution_count": 88,
   "metadata": {
    "colab": {
     "base_uri": "https://localhost:8080/"
    },
    "id": "o3thOeCq-uhT",
    "outputId": "e244c2ea-9eec-4fb0-e2aa-e18c40099183"
   },
   "outputs": [
    {
     "data": {
      "text/plain": [
       "brand_name                 0\n",
       "os                         0\n",
       "screen_size                0\n",
       "4g                         0\n",
       "5g                         0\n",
       "main_camera_mp           179\n",
       "selfie_camera_mp           2\n",
       "int_memory                 4\n",
       "ram                        4\n",
       "battery                    6\n",
       "weight                     7\n",
       "release_year               0\n",
       "days_used                  0\n",
       "normalized_used_price      0\n",
       "normalized_new_price       0\n",
       "dtype: int64"
      ]
     },
     "execution_count": 88,
     "metadata": {},
     "output_type": "execute_result"
    }
   ],
   "source": [
    "# checking for missing values\n",
    "data.isnull().sum()"
   ]
  },
  {
   "cell_type": "markdown",
   "metadata": {
    "id": "V-Z1Bwck-uhU"
   },
   "source": [
    "#### Observations\n",
    "\n",
    "* There are missing entries in features `main_camera_mp`, `selfie_camera_mp`, `int_memory`, `ram`, `battery` and `weight`\n",
    "* Missing values will be treated later"
   ]
  },
  {
   "cell_type": "code",
   "execution_count": 89,
   "metadata": {
    "colab": {
     "base_uri": "https://localhost:8080/"
    },
    "id": "irOEoRF4-uhV",
    "outputId": "5904aa9f-8422-43cf-d088-241dec57a3f8"
   },
   "outputs": [
    {
     "data": {
      "text/html": [
       "<div>\n",
       "<style scoped>\n",
       "    .dataframe tbody tr th:only-of-type {\n",
       "        vertical-align: middle;\n",
       "    }\n",
       "\n",
       "    .dataframe tbody tr th {\n",
       "        vertical-align: top;\n",
       "    }\n",
       "\n",
       "    .dataframe thead th {\n",
       "        text-align: right;\n",
       "    }\n",
       "</style>\n",
       "<table border=\"1\" class=\"dataframe\">\n",
       "  <thead>\n",
       "    <tr style=\"text-align: right;\">\n",
       "      <th></th>\n",
       "      <th>count</th>\n",
       "      <th>unique</th>\n",
       "      <th>top</th>\n",
       "      <th>freq</th>\n",
       "      <th>mean</th>\n",
       "      <th>std</th>\n",
       "      <th>min</th>\n",
       "      <th>25%</th>\n",
       "      <th>50%</th>\n",
       "      <th>75%</th>\n",
       "      <th>max</th>\n",
       "    </tr>\n",
       "  </thead>\n",
       "  <tbody>\n",
       "    <tr>\n",
       "      <th>brand_name</th>\n",
       "      <td>3454</td>\n",
       "      <td>34</td>\n",
       "      <td>Others</td>\n",
       "      <td>502</td>\n",
       "      <td>NaN</td>\n",
       "      <td>NaN</td>\n",
       "      <td>NaN</td>\n",
       "      <td>NaN</td>\n",
       "      <td>NaN</td>\n",
       "      <td>NaN</td>\n",
       "      <td>NaN</td>\n",
       "    </tr>\n",
       "    <tr>\n",
       "      <th>os</th>\n",
       "      <td>3454</td>\n",
       "      <td>4</td>\n",
       "      <td>Android</td>\n",
       "      <td>3214</td>\n",
       "      <td>NaN</td>\n",
       "      <td>NaN</td>\n",
       "      <td>NaN</td>\n",
       "      <td>NaN</td>\n",
       "      <td>NaN</td>\n",
       "      <td>NaN</td>\n",
       "      <td>NaN</td>\n",
       "    </tr>\n",
       "    <tr>\n",
       "      <th>screen_size</th>\n",
       "      <td>3454.0</td>\n",
       "      <td>NaN</td>\n",
       "      <td>NaN</td>\n",
       "      <td>NaN</td>\n",
       "      <td>13.713115</td>\n",
       "      <td>3.80528</td>\n",
       "      <td>5.08</td>\n",
       "      <td>12.7</td>\n",
       "      <td>12.83</td>\n",
       "      <td>15.34</td>\n",
       "      <td>30.71</td>\n",
       "    </tr>\n",
       "    <tr>\n",
       "      <th>4g</th>\n",
       "      <td>3454</td>\n",
       "      <td>2</td>\n",
       "      <td>yes</td>\n",
       "      <td>2335</td>\n",
       "      <td>NaN</td>\n",
       "      <td>NaN</td>\n",
       "      <td>NaN</td>\n",
       "      <td>NaN</td>\n",
       "      <td>NaN</td>\n",
       "      <td>NaN</td>\n",
       "      <td>NaN</td>\n",
       "    </tr>\n",
       "    <tr>\n",
       "      <th>5g</th>\n",
       "      <td>3454</td>\n",
       "      <td>2</td>\n",
       "      <td>no</td>\n",
       "      <td>3302</td>\n",
       "      <td>NaN</td>\n",
       "      <td>NaN</td>\n",
       "      <td>NaN</td>\n",
       "      <td>NaN</td>\n",
       "      <td>NaN</td>\n",
       "      <td>NaN</td>\n",
       "      <td>NaN</td>\n",
       "    </tr>\n",
       "    <tr>\n",
       "      <th>main_camera_mp</th>\n",
       "      <td>3275.0</td>\n",
       "      <td>NaN</td>\n",
       "      <td>NaN</td>\n",
       "      <td>NaN</td>\n",
       "      <td>9.460208</td>\n",
       "      <td>4.815461</td>\n",
       "      <td>0.08</td>\n",
       "      <td>5.0</td>\n",
       "      <td>8.0</td>\n",
       "      <td>13.0</td>\n",
       "      <td>48.0</td>\n",
       "    </tr>\n",
       "    <tr>\n",
       "      <th>selfie_camera_mp</th>\n",
       "      <td>3452.0</td>\n",
       "      <td>NaN</td>\n",
       "      <td>NaN</td>\n",
       "      <td>NaN</td>\n",
       "      <td>6.554229</td>\n",
       "      <td>6.970372</td>\n",
       "      <td>0.0</td>\n",
       "      <td>2.0</td>\n",
       "      <td>5.0</td>\n",
       "      <td>8.0</td>\n",
       "      <td>32.0</td>\n",
       "    </tr>\n",
       "    <tr>\n",
       "      <th>int_memory</th>\n",
       "      <td>3450.0</td>\n",
       "      <td>NaN</td>\n",
       "      <td>NaN</td>\n",
       "      <td>NaN</td>\n",
       "      <td>54.573099</td>\n",
       "      <td>84.972371</td>\n",
       "      <td>0.01</td>\n",
       "      <td>16.0</td>\n",
       "      <td>32.0</td>\n",
       "      <td>64.0</td>\n",
       "      <td>1024.0</td>\n",
       "    </tr>\n",
       "    <tr>\n",
       "      <th>ram</th>\n",
       "      <td>3450.0</td>\n",
       "      <td>NaN</td>\n",
       "      <td>NaN</td>\n",
       "      <td>NaN</td>\n",
       "      <td>4.036122</td>\n",
       "      <td>1.365105</td>\n",
       "      <td>0.02</td>\n",
       "      <td>4.0</td>\n",
       "      <td>4.0</td>\n",
       "      <td>4.0</td>\n",
       "      <td>12.0</td>\n",
       "    </tr>\n",
       "    <tr>\n",
       "      <th>battery</th>\n",
       "      <td>3448.0</td>\n",
       "      <td>NaN</td>\n",
       "      <td>NaN</td>\n",
       "      <td>NaN</td>\n",
       "      <td>3133.402697</td>\n",
       "      <td>1299.682844</td>\n",
       "      <td>500.0</td>\n",
       "      <td>2100.0</td>\n",
       "      <td>3000.0</td>\n",
       "      <td>4000.0</td>\n",
       "      <td>9720.0</td>\n",
       "    </tr>\n",
       "    <tr>\n",
       "      <th>weight</th>\n",
       "      <td>3447.0</td>\n",
       "      <td>NaN</td>\n",
       "      <td>NaN</td>\n",
       "      <td>NaN</td>\n",
       "      <td>182.751871</td>\n",
       "      <td>88.413228</td>\n",
       "      <td>69.0</td>\n",
       "      <td>142.0</td>\n",
       "      <td>160.0</td>\n",
       "      <td>185.0</td>\n",
       "      <td>855.0</td>\n",
       "    </tr>\n",
       "    <tr>\n",
       "      <th>release_year</th>\n",
       "      <td>3454.0</td>\n",
       "      <td>NaN</td>\n",
       "      <td>NaN</td>\n",
       "      <td>NaN</td>\n",
       "      <td>2015.965258</td>\n",
       "      <td>2.298455</td>\n",
       "      <td>2013.0</td>\n",
       "      <td>2014.0</td>\n",
       "      <td>2015.5</td>\n",
       "      <td>2018.0</td>\n",
       "      <td>2020.0</td>\n",
       "    </tr>\n",
       "    <tr>\n",
       "      <th>days_used</th>\n",
       "      <td>3454.0</td>\n",
       "      <td>NaN</td>\n",
       "      <td>NaN</td>\n",
       "      <td>NaN</td>\n",
       "      <td>674.869716</td>\n",
       "      <td>248.580166</td>\n",
       "      <td>91.0</td>\n",
       "      <td>533.5</td>\n",
       "      <td>690.5</td>\n",
       "      <td>868.75</td>\n",
       "      <td>1094.0</td>\n",
       "    </tr>\n",
       "    <tr>\n",
       "      <th>normalized_used_price</th>\n",
       "      <td>3454.0</td>\n",
       "      <td>NaN</td>\n",
       "      <td>NaN</td>\n",
       "      <td>NaN</td>\n",
       "      <td>4.364712</td>\n",
       "      <td>0.588914</td>\n",
       "      <td>1.536867</td>\n",
       "      <td>4.033931</td>\n",
       "      <td>4.405133</td>\n",
       "      <td>4.7557</td>\n",
       "      <td>6.619433</td>\n",
       "    </tr>\n",
       "    <tr>\n",
       "      <th>normalized_new_price</th>\n",
       "      <td>3454.0</td>\n",
       "      <td>NaN</td>\n",
       "      <td>NaN</td>\n",
       "      <td>NaN</td>\n",
       "      <td>5.233107</td>\n",
       "      <td>0.683637</td>\n",
       "      <td>2.901422</td>\n",
       "      <td>4.790342</td>\n",
       "      <td>5.245892</td>\n",
       "      <td>5.673718</td>\n",
       "      <td>7.847841</td>\n",
       "    </tr>\n",
       "  </tbody>\n",
       "</table>\n",
       "</div>"
      ],
      "text/plain": [
       "                        count unique      top  freq         mean          std  \\\n",
       "brand_name               3454     34   Others   502          NaN          NaN   \n",
       "os                       3454      4  Android  3214          NaN          NaN   \n",
       "screen_size            3454.0    NaN      NaN   NaN    13.713115      3.80528   \n",
       "4g                       3454      2      yes  2335          NaN          NaN   \n",
       "5g                       3454      2       no  3302          NaN          NaN   \n",
       "main_camera_mp         3275.0    NaN      NaN   NaN     9.460208     4.815461   \n",
       "selfie_camera_mp       3452.0    NaN      NaN   NaN     6.554229     6.970372   \n",
       "int_memory             3450.0    NaN      NaN   NaN    54.573099    84.972371   \n",
       "ram                    3450.0    NaN      NaN   NaN     4.036122     1.365105   \n",
       "battery                3448.0    NaN      NaN   NaN  3133.402697  1299.682844   \n",
       "weight                 3447.0    NaN      NaN   NaN   182.751871    88.413228   \n",
       "release_year           3454.0    NaN      NaN   NaN  2015.965258     2.298455   \n",
       "days_used              3454.0    NaN      NaN   NaN   674.869716   248.580166   \n",
       "normalized_used_price  3454.0    NaN      NaN   NaN     4.364712     0.588914   \n",
       "normalized_new_price   3454.0    NaN      NaN   NaN     5.233107     0.683637   \n",
       "\n",
       "                            min       25%       50%       75%       max  \n",
       "brand_name                  NaN       NaN       NaN       NaN       NaN  \n",
       "os                          NaN       NaN       NaN       NaN       NaN  \n",
       "screen_size                5.08      12.7     12.83     15.34     30.71  \n",
       "4g                          NaN       NaN       NaN       NaN       NaN  \n",
       "5g                          NaN       NaN       NaN       NaN       NaN  \n",
       "main_camera_mp             0.08       5.0       8.0      13.0      48.0  \n",
       "selfie_camera_mp            0.0       2.0       5.0       8.0      32.0  \n",
       "int_memory                 0.01      16.0      32.0      64.0    1024.0  \n",
       "ram                        0.02       4.0       4.0       4.0      12.0  \n",
       "battery                   500.0    2100.0    3000.0    4000.0    9720.0  \n",
       "weight                     69.0     142.0     160.0     185.0     855.0  \n",
       "release_year             2013.0    2014.0    2015.5    2018.0    2020.0  \n",
       "days_used                  91.0     533.5     690.5    868.75    1094.0  \n",
       "normalized_used_price  1.536867  4.033931  4.405133    4.7557  6.619433  \n",
       "normalized_new_price   2.901422  4.790342  5.245892  5.673718  7.847841  "
      ]
     },
     "execution_count": 89,
     "metadata": {},
     "output_type": "execute_result"
    }
   ],
   "source": [
    "data.describe(include=\"all\").T"
   ]
  },
  {
   "cell_type": "markdown",
   "metadata": {
    "id": "ur6nLDBr-uhW"
   },
   "source": [
    "#### Observation\n",
    "\n",
    "* The normalized used prices of devices ranges approximately between 1.54 to 6.62, with an average of 4.36\n",
    "\n",
    "* Variables ‘4g’ and ‘5g’ have only 2 categories while variable ‘os’ has 4 categories\n",
    "\n",
    "* Variable ‘release_year’ appears as a numerical variable but functions as a categorical variable\n",
    "\n",
    "* \n",
    "\n"
   ]
  },
  {
   "cell_type": "code",
   "execution_count": 90,
   "metadata": {
    "id": "qB5qngFm-uhk"
   },
   "outputs": [],
   "source": [
    "# creating a copy of the data so that original data remains unchanged\n",
    "df = data.copy()"
   ]
  },
  {
   "cell_type": "markdown",
   "metadata": {
    "id": "__7ciGcIDPyk"
   },
   "source": [
    "## Exploratory Data Analysis (EDA)"
   ]
  },
  {
   "cell_type": "markdown",
   "metadata": {
    "id": "3bGVKmh75ri8"
   },
   "source": [
    "- EDA is an important part of any project involving data.\n",
    "- It is important to investigate and understand the data better before building a model with it.\n",
    "- A few questions have been mentioned below which will help you approach the analysis in the right manner and generate insights from the data.\n",
    "- A thorough analysis of the data, in addition to the questions mentioned below, should be done."
   ]
  },
  {
   "cell_type": "markdown",
   "metadata": {
    "id": "oEyqzdJBb0jU"
   },
   "source": [
    "**Questions**:\n",
    "\n",
    "1. What does the distribution of normalized used device prices look like?\n",
    "2. What percentage of the used device market is dominated by Android devices?\n",
    "3. The amount of RAM is important for the smooth functioning of a device. How does the amount of RAM vary with the brand?\n",
    "4. A large battery often increases a device's weight, making it feel uncomfortable in the hands. How does the weight vary for phones and tablets offering large batteries (more than 4500 mAh)?\n",
    "5. Bigger screens are desirable for entertainment purposes as they offer a better viewing experience. How many phones and tablets are available across different brands with a screen size larger than 6 inches?\n",
    "6. A lot of devices nowadays offer great selfie cameras, allowing us to capture our favorite moments with loved ones. What is the distribution of devices offering greater than 8MP selfie cameras across brands?\n",
    "7. Which attributes are highly correlated with the normalized price of a used device?"
   ]
  },
  {
   "cell_type": "code",
   "execution_count": 91,
   "metadata": {
    "id": "cN1lyueHttwW"
   },
   "outputs": [],
   "source": [
    "# creating function to plot both histogram and boxplot\n",
    "\n",
    "def histogram_boxplot(data, feature, figsize=(15, 10), kde=False, bins=None):\n",
    "    \"\"\"\n",
    "    Boxplot and histogram combined\n",
    "\n",
    "    data: dataframe\n",
    "    feature: dataframe column\n",
    "    figsize: size of figure (default (15,10))\n",
    "    kde: whether to show the density curve (default False)\n",
    "    bins: number of bins for histogram (default None)\n",
    "    \"\"\"\n",
    "    f2, (ax_box2, ax_hist2) = plt.subplots(\n",
    "        nrows=2,  # Number of rows of the subplot grid= 2\n",
    "        sharex=True,  # x-axis will be shared among all subplots\n",
    "        gridspec_kw={\"height_ratios\": (0.25, 0.75)},\n",
    "        figsize=figsize,\n",
    "    )  # creating the 2 subplots\n",
    "    sns.boxplot(\n",
    "        data=data, x=feature, ax=ax_box2, showmeans=True, color=\"violet\"\n",
    "    )  # boxplot will be created and a triangle will indicate the mean value of the column\n",
    "    sns.histplot(\n",
    "        data=data, x=feature, kde=kde, ax=ax_hist2, bins=bins\n",
    "    ) if bins else sns.histplot(\n",
    "        data=data, x=feature, kde=kde, ax=ax_hist2\n",
    "    )  # For histogram\n",
    "    ax_hist2.axvline(\n",
    "        data[feature].mean(), color=\"green\", linestyle=\"--\"\n",
    "    )  # Add mean to the histogram\n",
    "    ax_hist2.axvline(\n",
    "        data[feature].median(), color=\"black\", linestyle=\"-\"\n",
    "    )  # Add median to the histogram"
   ]
  },
  {
   "cell_type": "code",
   "execution_count": 92,
   "metadata": {
    "id": "8XsTg_0D-uhp"
   },
   "outputs": [],
   "source": [
    "# creating function to plot labelled bar plot\n",
    "\n",
    "def labeled_barplot(data, feature, perc=False, n=None):\n",
    "    \"\"\"\n",
    "    Barplot with percentage at the top\n",
    "\n",
    "    data: dataframe\n",
    "    feature: dataframe column\n",
    "    perc: whether to display percentages instead of count (default is False)\n",
    "    n: displays the top n category levels (default is None, i.e., display all levels)\n",
    "    \"\"\"\n",
    "\n",
    "    total = len(data[feature])  # length of the column\n",
    "    count = data[feature].nunique()\n",
    "    if n is None:\n",
    "        plt.figure(figsize=(count + 2, 6))\n",
    "    else:\n",
    "        plt.figure(figsize=(n + 2, 6))\n",
    "\n",
    "    plt.xticks(rotation=90, fontsize=15)\n",
    "    ax = sns.countplot(\n",
    "        data=data,\n",
    "        x=feature,\n",
    "        palette=\"Paired\",\n",
    "        order=data[feature].value_counts().index[:n],\n",
    "    )\n",
    "\n",
    "    for p in ax.patches:\n",
    "        if perc == True:\n",
    "            label = \"{:.1f}%\".format(\n",
    "                100 * p.get_height() / total\n",
    "            )  # percentage of each class of the category\n",
    "        else:\n",
    "            label = p.get_height()  # count of each level of the category\n",
    "\n",
    "        x = p.get_x() + p.get_width() / 2  # width of the plot\n",
    "        y = p.get_height()  # height of the plot\n",
    "\n",
    "        ax.annotate(\n",
    "            label,\n",
    "            (x, y),\n",
    "            ha=\"center\",\n",
    "            va=\"center\",\n",
    "            size=12,\n",
    "            xytext=(0, 5),\n",
    "            textcoords=\"offset points\",\n",
    "        )  # annotate the percentage\n",
    "\n",
    "    plt.show()  # show the plot"
   ]
  },
  {
   "cell_type": "markdown",
   "metadata": {
    "id": "BfGuWaNB-uhq"
   },
   "source": [
    "### Univariate Analysis"
   ]
  },
  {
   "cell_type": "code",
   "execution_count": 93,
   "metadata": {
    "colab": {
     "base_uri": "https://localhost:8080/",
     "height": 449
    },
    "id": "1XNGkQuJ-uhr",
    "outputId": "e06dacc6-984f-4739-ef6d-066bd2631869"
   },
   "outputs": [
    {
     "data": {
      "image/png": "[encoded data removed]",
      "text/plain": [
       "<Figure size 576x432 with 1 Axes>"
      ]
     },
     "metadata": {
      "needs_background": "light"
     },
     "output_type": "display_data"
    }
   ],
   "source": [
    "labeled_barplot(df, \"brand_name\", perc=True, n=6)"
   ]
  },
  {
   "cell_type": "markdown",
   "metadata": {
    "id": "jSjOM4iZ-uhs"
   },
   "source": [
    "#### Observation\n",
    "\n",
    "* The most popular brand is Samsung by sales. It is responsible for 9.9%\n",
    "* Following Samsung among the top five brands are Huawei, LG, Lenovo and ZTE\n",
    "* The top five most popular brand names account for 32.1% of all the mobile devices"
   ]
  },
  {
   "cell_type": "code",
   "execution_count": 94,
   "metadata": {
    "colab": {
     "base_uri": "https://localhost:8080/",
     "height": 445
    },
    "id": "mR2_dPgJ-uht",
    "outputId": "ba93bf22-193a-4f2f-c53c-0b44143f0cb1"
   },
   "outputs": [
    {
     "data": {
      "image/png": "[encoded data removed]",
      "text/plain": [
       "<Figure size 432x432 with 1 Axes>"
      ]
     },
     "metadata": {
      "needs_background": "light"
     },
     "output_type": "display_data"
    }
   ],
   "source": [
    "labeled_barplot(df, \"os\", perc=True)"
   ]
  },
  {
   "cell_type": "markdown",
   "metadata": {
    "id": "2358TxEN-uhu"
   },
   "source": [
    "#### Observations\n",
    "\n",
    "* Andoird Operating systems is the most popular OS accounting for 93.1% of all phone sales\n",
    "* Windows and iOS account for 1.9% and 1.0% respectively"
   ]
  },
  {
   "cell_type": "code",
   "execution_count": 95,
   "metadata": {
    "colab": {
     "base_uri": "https://localhost:8080/",
     "height": 675
    },
    "id": "bpYOKqZI-uhv",
    "outputId": "87e1641a-f527-4251-c68e-f30bf535b127"
   },
   "outputs": [
    {
     "name": "stdout",
     "output_type": "stream",
     "text": [
      "The median screen size is 12.83\n",
      "The mean screen size is 13.713115228720477\n",
      "The mode screen size is 0    12.7\n",
      "Name: screen_size, dtype: float64\n"
     ]
    },
    {
     "data": {
      "image/png": "[encoded data removed]",
      "text/plain": [
       "<Figure size 1080x720 with 2 Axes>"
      ]
     },
     "metadata": {
      "needs_background": "light"
     },
     "output_type": "display_data"
    }
   ],
   "source": [
    "histogram_boxplot(df, \"screen_size\", kde=True)\n",
    "\n",
    "print('The median screen size is', df['screen_size'].median())\n",
    "print('The mean screen size is', df['screen_size'].mean())\n",
    "print('The mode screen size is', df['screen_size'].mode())"
   ]
  },
  {
   "cell_type": "markdown",
   "metadata": {
    "id": "6Rqklvbx-uhw"
   },
   "source": [
    "#### Observations\n",
    "\n",
    "* The screen size distrubutions is mulitmodal and slightly right-skewed\n",
    "* Most mobile devices have a screen size at least 12cm\n",
    "* The median and the modal screen sizes are approximately 12.83cm and 12.7cm respectively\n",
    "* The mean screen size is 13.7cm"
   ]
  },
  {
   "cell_type": "code",
   "execution_count": 96,
   "metadata": {
    "colab": {
     "base_uri": "https://localhost:8080/",
     "height": 404
    },
    "id": "74MMNPo9-uhx",
    "outputId": "28fb42cc-e4e3-4a24-8bc7-7b0cade25fe7"
   },
   "outputs": [
    {
     "data": {
      "image/png": "[encoded data removed]",
      "text/plain": [
       "<Figure size 288x432 with 1 Axes>"
      ]
     },
     "metadata": {
      "needs_background": "light"
     },
     "output_type": "display_data"
    }
   ],
   "source": [
    "labeled_barplot(df, \"4g\", perc=True)"
   ]
  },
  {
   "cell_type": "markdown",
   "metadata": {
    "id": "O_rSyz-B-uhy"
   },
   "source": [
    "#### Observation\n",
    "\n",
    "* 67.6% of all the mobile devices have 4G capability"
   ]
  },
  {
   "cell_type": "code",
   "execution_count": 97,
   "metadata": {
    "colab": {
     "base_uri": "https://localhost:8080/",
     "height": 404
    },
    "id": "_cbMMvEA-uhz",
    "outputId": "c66e2214-395d-46bf-eeba-97053e204ce9"
   },
   "outputs": [
    {
     "data": {
      "image/png": "[encoded data removed]",
      "text/plain": [
       "<Figure size 288x432 with 1 Axes>"
      ]
     },
     "metadata": {
      "needs_background": "light"
     },
     "output_type": "display_data"
    }
   ],
   "source": [
    "labeled_barplot(df, \"5g\", perc=True)"
   ]
  },
  {
   "cell_type": "markdown",
   "metadata": {
    "id": "z5L85nYj-uh0"
   },
   "source": [
    "#### Observation:\n",
    "\n",
    "* 95.6% of all the mobile devices gave 5G capability\n",
    "* It appears that there are devices that have 5G capability but not 4G"
   ]
  },
  {
   "cell_type": "code",
   "execution_count": 98,
   "metadata": {
    "colab": {
     "base_uri": "https://localhost:8080/",
     "height": 606
    },
    "id": "XKshtQnM-uh0",
    "outputId": "a5383b32-3c8b-41e4-b184-69eff51a2b86"
   },
   "outputs": [
    {
     "data": {
      "image/png": "[encoded data removed]",
      "text/plain": [
       "<Figure size 1080x720 with 2 Axes>"
      ]
     },
     "metadata": {
      "needs_background": "light"
     },
     "output_type": "display_data"
    }
   ],
   "source": [
    "histogram_boxplot(df, \"main_camera_mp\", kde=True)"
   ]
  },
  {
   "cell_type": "code",
   "execution_count": 99,
   "metadata": {
    "colab": {
     "base_uri": "https://localhost:8080/"
    },
    "id": "BtTH44XH-uh1",
    "outputId": "8e15082b-99d8-477b-8bd7-596e8efca58c"
   },
   "outputs": [
    {
     "data": {
      "text/plain": [
       "8.0"
      ]
     },
     "execution_count": 99,
     "metadata": {},
     "output_type": "execute_result"
    }
   ],
   "source": [
    "data.main_camera_mp.median()"
   ]
  },
  {
   "cell_type": "markdown",
   "metadata": {
    "id": "OHR41Iva-uh1"
   },
   "source": [
    "#### Observations\n",
    "\n",
    "* The distribution is multimodal and also right-skewed\n",
    "* Most mobile devices have main camera mp less than 16mp\n",
    "* There are outliers with main camera mp of over 40. These are not improbable observations\n",
    "* The most common main camera mps are 5mp, 8mp , 13mp\n"
   ]
  },
  {
   "cell_type": "code",
   "execution_count": 100,
   "metadata": {
    "colab": {
     "base_uri": "https://localhost:8080/",
     "height": 606
    },
    "id": "7EtVLfS--uh2",
    "outputId": "49fc27ed-bd7c-4554-acfa-641003fe5915"
   },
   "outputs": [
    {
     "data": {
      "image/png": "[encoded data removed]",
      "text/plain": [
       "<Figure size 1080x720 with 2 Axes>"
      ]
     },
     "metadata": {
      "needs_background": "light"
     },
     "output_type": "display_data"
    }
   ],
   "source": [
    "histogram_boxplot(df, \"selfie_camera_mp\", kde=True)"
   ]
  },
  {
   "cell_type": "code",
   "execution_count": 101,
   "metadata": {
    "colab": {
     "base_uri": "https://localhost:8080/"
    },
    "id": "tAza5Qwi-uh3",
    "outputId": "02b485f7-4d34-48ae-8651-eb8c3431cdbb"
   },
   "outputs": [
    {
     "data": {
      "text/plain": [
       "5.0     791\n",
       "8.0     549\n",
       "2.0     538\n",
       "0.3     492\n",
       "16.0    298\n",
       "Name: selfie_camera_mp, dtype: int64"
      ]
     },
     "execution_count": 101,
     "metadata": {},
     "output_type": "execute_result"
    }
   ],
   "source": [
    "data.selfie_camera_mp.value_counts().head()"
   ]
  },
  {
   "cell_type": "code",
   "execution_count": 102,
   "metadata": {
    "colab": {
     "base_uri": "https://localhost:8080/"
    },
    "id": "IT5SgV_L-uh3",
    "outputId": "178fedc3-3541-4c54-ea8f-a217f8bca515"
   },
   "outputs": [
    {
     "data": {
      "text/plain": [
       "5.0"
      ]
     },
     "execution_count": 102,
     "metadata": {},
     "output_type": "execute_result"
    }
   ],
   "source": [
    "data.selfie_camera_mp.median()"
   ]
  },
  {
   "cell_type": "markdown",
   "metadata": {
    "id": "NF-jPmXz-uh4"
   },
   "source": []
  },
  {
   "cell_type": "code",
   "execution_count": 103,
   "metadata": {
    "colab": {
     "base_uri": "https://localhost:8080/",
     "height": 606
    },
    "id": "RkKymz_P-uh4",
    "outputId": "816dcec2-f92c-4f6c-b1a5-a78bc3c65f62",
    "scrolled": true
   },
   "outputs": [
    {
     "data": {
      "image/png": "[encoded data removed]",
      "text/plain": [
       "<Figure size 1080x720 with 2 Axes>"
      ]
     },
     "metadata": {
      "needs_background": "light"
     },
     "output_type": "display_data"
    }
   ],
   "source": [
    "histogram_boxplot(df, \"int_memory\", bins=30)"
   ]
  },
  {
   "cell_type": "code",
   "execution_count": 104,
   "metadata": {
    "colab": {
     "base_uri": "https://localhost:8080/"
    },
    "id": "gnQC24qc-uh5",
    "outputId": "35623021-245d-4ef7-c8a1-1e1fe9e09ce0"
   },
   "outputs": [
    {
     "data": {
      "text/plain": [
       "32.0"
      ]
     },
     "execution_count": 104,
     "metadata": {},
     "output_type": "execute_result"
    }
   ],
   "source": [
    "data.int_memory.median()"
   ]
  },
  {
   "cell_type": "code",
   "execution_count": 105,
   "metadata": {
    "colab": {
     "base_uri": "https://localhost:8080/",
     "height": 606
    },
    "id": "yK4hNcgp-uh5",
    "outputId": "e8d60d19-91f0-4207-97c7-c9eb735d7209"
   },
   "outputs": [
    {
     "data": {
      "image/png": "[encoded data removed]",
      "text/plain": [
       "<Figure size 1080x720 with 2 Axes>"
      ]
     },
     "metadata": {
      "needs_background": "light"
     },
     "output_type": "display_data"
    }
   ],
   "source": [
    "histogram_boxplot(df, \"ram\", kde=True)"
   ]
  },
  {
   "cell_type": "code",
   "execution_count": 106,
   "metadata": {
    "colab": {
     "base_uri": "https://localhost:8080/"
    },
    "id": "-JI7AqGk-uh6",
    "outputId": "017cc2dd-2db9-499c-dfc5-65a2a081c298"
   },
   "outputs": [
    {
     "data": {
      "image/png": "[encoded data removed]",
      "text/plain": [
       "<Figure size 1080x720 with 2 Axes>"
      ]
     },
     "metadata": {
      "needs_background": "light"
     },
     "output_type": "display_data"
    }
   ],
   "source": [
    "histogram_boxplot(df, \"battery\", kde=True)"
   ]
  },
  {
   "cell_type": "code",
   "execution_count": 107,
   "metadata": {
    "colab": {
     "base_uri": "https://localhost:8080/",
     "height": 606
    },
    "id": "68ADu1yi-uh7",
    "outputId": "ead186ff-ba38-475d-903c-bcebd22fcf5e"
   },
   "outputs": [
    {
     "data": {
      "image/png": "[encoded data removed]",
      "text/plain": [
       "<Figure size 1080x720 with 2 Axes>"
      ]
     },
     "metadata": {
      "needs_background": "light"
     },
     "output_type": "display_data"
    }
   ],
   "source": [
    "histogram_boxplot(df, \"weight\")"
   ]
  },
  {
   "cell_type": "code",
   "execution_count": 108,
   "metadata": {
    "colab": {
     "base_uri": "https://localhost:8080/",
     "height": 417
    },
    "id": "KRt74J6N-uh8",
    "outputId": "a811efa2-235f-4dc9-8366-adcbe5202e5b"
   },
   "outputs": [
    {
     "data": {
      "image/png": "[encoded data removed]",
      "text/plain": [
       "<Figure size 720x432 with 1 Axes>"
      ]
     },
     "metadata": {
      "needs_background": "light"
     },
     "output_type": "display_data"
    }
   ],
   "source": [
    "labeled_barplot(df, \"release_year\", perc=True)"
   ]
  },
  {
   "cell_type": "code",
   "execution_count": 109,
   "metadata": {
    "colab": {
     "base_uri": "https://localhost:8080/",
     "height": 606
    },
    "id": "c3nyWQCJ-uh9",
    "outputId": "622d7e77-404b-43bf-9284-0509bbabf07c"
   },
   "outputs": [
    {
     "data": {
      "image/png": "[encoded data removed]",
      "text/plain": [
       "<Figure size 1080x720 with 2 Axes>"
      ]
     },
     "metadata": {
      "needs_background": "light"
     },
     "output_type": "display_data"
    }
   ],
   "source": [
    "histogram_boxplot(df, \"days_used\")"
   ]
  },
  {
   "cell_type": "code",
   "execution_count": 110,
   "metadata": {
    "colab": {
     "base_uri": "https://localhost:8080/",
     "height": 606
    },
    "id": "E6wAOj-L-uh-",
    "outputId": "0b66276c-65fc-4c89-a111-85b0aeff49e2"
   },
   "outputs": [
    {
     "data": {
      "image/png": "[encoded data removed]",
      "text/plain": [
       "<Figure size 1080x720 with 2 Axes>"
      ]
     },
     "metadata": {
      "needs_background": "light"
     },
     "output_type": "display_data"
    }
   ],
   "source": [
    "histogram_boxplot(df, \"normalized_new_price\")"
   ]
  },
  {
   "cell_type": "code",
   "execution_count": 111,
   "metadata": {
    "colab": {
     "base_uri": "https://localhost:8080/",
     "height": 606
    },
    "id": "ZF08bVLc-uh-",
    "outputId": "318bdaa6-6be8-47f0-fa9b-093cdf862564"
   },
   "outputs": [
    {
     "data": {
      "image/png": "[encoded data removed]",
      "text/plain": [
       "<Figure size 1080x720 with 2 Axes>"
      ]
     },
     "metadata": {
      "needs_background": "light"
     },
     "output_type": "display_data"
    }
   ],
   "source": [
    "histogram_boxplot(df, \"normalized_used_price\")"
   ]
  },
  {
   "cell_type": "markdown",
   "metadata": {
    "id": "RxFGJ_9v-uh_"
   },
   "source": [
    "### Bivariate Analysis"
   ]
  },
  {
   "cell_type": "code",
   "execution_count": 112,
   "metadata": {
    "colab": {
     "base_uri": "https://localhost:8080/",
     "height": 537
    },
    "id": "WLZsz6U--uh_",
    "outputId": "0cc0659a-bd0c-4231-bd48-a9e05ec7923c"
   },
   "outputs": [
    {
     "data": {
      "image/png": "[encoded data removed]",
      "text/plain": [
       "<Figure size 1080x504 with 2 Axes>"
      ]
     },
     "metadata": {
      "needs_background": "light"
     },
     "output_type": "display_data"
    }
   ],
   "source": [
    "cols_list = df.select_dtypes(include=np.number).columns.tolist()\n",
    "# dropping release_year as it is a temporal variable\n",
    "cols_list.remove(\"release_year\")\n",
    "\n",
    "plt.figure(figsize=(15, 7))\n",
    "sns.heatmap(\n",
    "    df[cols_list].corr(), annot=True, vmin=-1, vmax=1, fmt=\".2f\", cmap=\"Spectral\"\n",
    ")\n",
    "plt.show()"
   ]
  },
  {
   "cell_type": "markdown",
   "metadata": {
    "id": "a-AmVDTN-uiA"
   },
   "source": [
    "#### Observations:\n",
    "\n",
    "There is a psoitive relationship between:\n",
    "\n",
    "* scree size and battery\n",
    "* screen size and weigth\n",
    "* screen size and normalized used price\n",
    "* selfie camera mp and normalized used price\n",
    "* normalized used price and battery\n",
    "* normalized used price and normalized new price\n",
    "* battery and weight\n",
    "\n",
    "There is a slight negative relationship between:\n",
    "\n",
    "* Days used and selfie camera mp"
   ]
  },
  {
   "cell_type": "code",
   "execution_count": 113,
   "metadata": {
    "colab": {
     "base_uri": "https://localhost:8080/",
     "height": 379
    },
    "id": "aWk-2mjI-uiA",
    "outputId": "52eccb73-73a8-4603-8c32-383ba5f9c5d6"
   },
   "outputs": [
    {
     "data": {
      "image/png": "[encoded data removed]",
      "text/plain": [
       "<Figure size 1080x360 with 1 Axes>"
      ]
     },
     "metadata": {
      "needs_background": "light"
     },
     "output_type": "display_data"
    }
   ],
   "source": [
    "# to see how the amount of RAM varies across brands\n",
    "plt.figure(figsize=(15, 5))\n",
    "sns.boxplot(data=df, x=\"brand_name\", y=\"ram\")\n",
    "plt.xticks(rotation=90)\n",
    "plt.show()"
   ]
  },
  {
   "cell_type": "markdown",
   "metadata": {
    "id": "717JflHD-uiB"
   },
   "source": [
    "#### Observations:\n",
    "\n",
    "* The most offered ram across all brands of mobile devices is 4G\n",
    "* Most mobile devices have ram between the range of 0G and 8G\n",
    "* The highest ram observed among the mobile devices is 12G"
   ]
  },
  {
   "cell_type": "code",
   "execution_count": 114,
   "metadata": {
    "id": "8SBFUsVW-uiB"
   },
   "outputs": [],
   "source": [
    "# to  create a new dataframe of only those devices which offer a large battery and analyze"
   ]
  },
  {
   "cell_type": "code",
   "execution_count": 115,
   "metadata": {
    "colab": {
     "base_uri": "https://localhost:8080/"
    },
    "id": "U74f5BN4-uiC",
    "outputId": "2ed93d7e-8995-4d7b-af47-c6f5858cd244"
   },
   "outputs": [
    {
     "data": {
      "text/plain": [
       "(341, 15)"
      ]
     },
     "execution_count": 115,
     "metadata": {},
     "output_type": "execute_result"
    }
   ],
   "source": [
    "df_large_battery = df[df.battery > 4500]\n",
    "df_large_battery.shape"
   ]
  },
  {
   "cell_type": "code",
   "execution_count": 116,
   "metadata": {
    "colab": {
     "base_uri": "https://localhost:8080/",
     "height": 375
    },
    "id": "x3tWRfAQ-uiD",
    "outputId": "c9a73de7-42a5-4cbc-acf9-8239c3715f0c"
   },
   "outputs": [
    {
     "data": {
      "image/png": "[encoded data removed]",
      "text/plain": [
       "<Figure size 1080x360 with 1 Axes>"
      ]
     },
     "metadata": {
      "needs_background": "light"
     },
     "output_type": "display_data"
    }
   ],
   "source": [
    "plt.figure(figsize=(15, 5))\n",
    "sns.boxplot(data=df_large_battery, x=\"brand_name\", y=\"weight\") ## Complete the code to create a boxplot for 'brand_name' and 'weight'\n",
    "plt.xticks(rotation=90)\n",
    "plt.show()"
   ]
  },
  {
   "cell_type": "markdown",
   "metadata": {
    "id": "Js3o_Mtj-uiD"
   },
   "source": [
    "#### Observations:\n",
    "\n",
    "* Many of the brands of have mobile devices with at least 4500mAH baterries capacities have mobile devices below 300 grams except Apple, Alcatel, Google, HTC, Nokia and Sony\n",
    "* Most of the mobiles devices with at least 4500mAH baterries capacities weight less than 500 grams except\n",
    "* Almost 50% of the Lenovo brands weight over 500 grams\n",
    "* 25% pf LG weight over 500 grams\n",
    "* Over 20% og Samsung, Apple, Acer and Asus mobile devices weight over 500 grams\n",
    "* Google mobile devices with at least 4500mAH baterries capacities weight over 500 grams"
   ]
  },
  {
   "cell_type": "code",
   "execution_count": 117,
   "metadata": {
    "colab": {
     "base_uri": "https://localhost:8080/"
    },
    "id": "mS-ztt7u-uiD",
    "outputId": "838ac1a1-5def-403e-982b-f38290f25d2b"
   },
   "outputs": [
    {
     "data": {
      "text/plain": [
       "(1099, 15)"
      ]
     },
     "execution_count": 117,
     "metadata": {},
     "output_type": "execute_result"
    }
   ],
   "source": [
    "# to create a new dataframe of only those devices have screen size more than 15.24\n",
    "df_large_screen = df[df.screen_size > 6 * 2.54]\n",
    "df_large_screen.shape"
   ]
  },
  {
   "cell_type": "code",
   "execution_count": 118,
   "metadata": {
    "colab": {
     "base_uri": "https://localhost:8080/",
     "height": 449
    },
    "id": "wyjngJPi-uiE",
    "outputId": "db050f86-734d-46a2-8e9f-ab728b6f8463"
   },
   "outputs": [
    {
     "data": {
      "image/png": "[encoded data removed]",
      "text/plain": [
       "<Figure size 936x432 with 1 Axes>"
      ]
     },
     "metadata": {
      "needs_background": "light"
     },
     "output_type": "display_data"
    }
   ],
   "source": [
    "labeled_barplot(df_large_screen, \"brand_name\", perc=True, n=11) ## Complete the code to create labeled_barplot for 'brand_name' in large screen dataframe"
   ]
  },
  {
   "cell_type": "markdown",
   "metadata": {
    "id": "VBucXCOZ-uiF"
   },
   "source": [
    "#### Observations:\n",
    "\n",
    "* The top 10 brands of mobile devices with screen sizes more than 15.24cm are Huawei, Samsung, Vivo, Honor, Oppo, Xaomi, Lenovo, LG, Motorola and Asus respectively. \n",
    "\n",
    "* Huawei account for 13.6% of the large screen mobile devices\n",
    "\n",
    "* The top 10 brands account for 72.9 of all mobile devices with screen sizes more than 15.24cm"
   ]
  },
  {
   "cell_type": "code",
   "execution_count": 119,
   "metadata": {
    "colab": {
     "base_uri": "https://localhost:8080/"
    },
    "id": "6rSFYrqB-uiF",
    "outputId": "42bac35d-efab-479a-a554-20d8885f102d"
   },
   "outputs": [
    {
     "data": {
      "text/plain": [
       "(655, 15)"
      ]
     },
     "execution_count": 119,
     "metadata": {},
     "output_type": "execute_result"
    }
   ],
   "source": [
    "# to create a new dataframe of only those devices that have selfie camera mp more than 8\n",
    "df_selfie_camera = df[df.selfie_camera_mp > 8]\n",
    "df_selfie_camera.shape"
   ]
  },
  {
   "cell_type": "code",
   "execution_count": 120,
   "metadata": {
    "colab": {
     "base_uri": "https://localhost:8080/",
     "height": 449
    },
    "id": "O-Cg49Ls-uiG",
    "outputId": "ed7b5452-a00b-41d5-8f66-7ebe1c734653"
   },
   "outputs": [
    {
     "data": {
      "image/png": "[encoded data removed]",
      "text/plain": [
       "<Figure size 936x432 with 1 Axes>"
      ]
     },
     "metadata": {
      "needs_background": "light"
     },
     "output_type": "display_data"
    }
   ],
   "source": [
    "labeled_barplot(df_selfie_camera, \"brand_name\", perc=True, n=11)"
   ]
  },
  {
   "cell_type": "markdown",
   "metadata": {
    "id": "tvlqzQAJ-uiG"
   },
   "source": [
    "#### Observations:\n",
    "\n",
    "* The top 10 brands of mobile devices that have selfie camera mp more than 8 are Huawei, Vivo, Oppo, Xiaomi, Samsung, Honor, LG, Motorola, Meizu and HTC respectively. \n",
    "\n",
    "* Huawei account for 13.3% of mobile devices that have selfie camera mp more than 8\n",
    "\n",
    "* The top 10 brands account for 77% of all mobile devices that have selfie camera mp more than 8 "
   ]
  },
  {
   "cell_type": "code",
   "execution_count": 121,
   "metadata": {
    "colab": {
     "base_uri": "https://localhost:8080/"
    },
    "id": "sEXrKj6N-uiH",
    "outputId": "3f5d1988-35c0-4c35-c1f6-e2ed2393088f"
   },
   "outputs": [
    {
     "data": {
      "text/plain": [
       "(94, 15)"
      ]
     },
     "execution_count": 121,
     "metadata": {},
     "output_type": "execute_result"
    }
   ],
   "source": [
    "# to create a new dataframe of only those devices that have main camera mp more than 16\n",
    "df_main_camera = df[df.main_camera_mp > 16]\n",
    "df_main_camera.shape"
   ]
  },
  {
   "cell_type": "code",
   "execution_count": 122,
   "metadata": {
    "colab": {
     "base_uri": "https://localhost:8080/",
     "height": 461
    },
    "id": "AsAoHld5-uiH",
    "outputId": "e6aae217-063a-4b21-ba24-053c6fb15628"
   },
   "outputs": [
    {
     "data": {
      "image/png": "[encoded data removed]",
      "text/plain": [
       "<Figure size 936x432 with 1 Axes>"
      ]
     },
     "metadata": {
      "needs_background": "light"
     },
     "output_type": "display_data"
    }
   ],
   "source": [
    "labeled_barplot(df_main_camera, \"brand_name\", perc=True, n=11)"
   ]
  },
  {
   "cell_type": "markdown",
   "metadata": {
    "id": "N35NEPAX-uiI"
   },
   "source": [
    "#### Observations:\n",
    "\n",
    "* The top 10 brands of mobile devices that have main camera mp more than 16 are Sony, Motorola, HTC, ZTE, Meizu, Nokia, Microsoft, Asus, Blackberry and Samsung respectively. \n",
    "\n",
    "* Sony account for 39.4% of mobile devices that have main camera mp more than 16\n",
    "\n",
    "* The top 10 brands account for 84.1% of all mobile devices that have main camera mp more than 16"
   ]
  },
  {
   "cell_type": "code",
   "execution_count": 123,
   "metadata": {
    "colab": {
     "base_uri": "https://localhost:8080/",
     "height": 335
    },
    "id": "Bh8FvTYq-uiJ",
    "outputId": "12908ea3-ba40-4031-912a-a8585cabb68f"
   },
   "outputs": [
    {
     "data": {
      "image/png": "[encoded data removed]",
      "text/plain": [
       "<Figure size 864x360 with 1 Axes>"
      ]
     },
     "metadata": {
      "needs_background": "light"
     },
     "output_type": "display_data"
    }
   ],
   "source": [
    "# to see how the price of used devices varies across the years\n",
    "plt.figure(figsize=(12, 5))\n",
    "sns.lineplot(data=df, x='release_year', y='normalized_used_price') ## Complete the code to create a lineplot for release year and used price\n",
    "plt.show()"
   ]
  },
  {
   "cell_type": "markdown",
   "metadata": {
    "id": "uIte9lzQ-uiJ"
   },
   "source": [
    "#### Observations:\n",
    "\n",
    "* The normalize used price has a positive relationship with the release year\n",
    "* The relationship is generally linear but plateaus between 2019 and 2020\n",
    "* The variation of normalized used price from year to year is fairly constant except between 2018 and 2022 where the variation is sligthly higher"
   ]
  },
  {
   "cell_type": "code",
   "execution_count": 124,
   "metadata": {
    "colab": {
     "base_uri": "https://localhost:8080/",
     "height": 497
    },
    "id": "UbNUVGJs-uiK",
    "outputId": "19dfabc7-ab96-4a23-fd8d-9eb810b82b9f"
   },
   "outputs": [
    {
     "data": {
      "image/png": "[encoded data removed]",
      "text/plain": [
       "<Figure size 720x576 with 2 Axes>"
      ]
     },
     "metadata": {
      "needs_background": "light"
     },
     "output_type": "display_data"
    }
   ],
   "source": [
    "# to check how the prices vary for used phones and tablets offering 4G and 5G networks\n",
    "plt.figure(figsize=(10, 8))\n",
    "\n",
    "plt.subplot(121)\n",
    "sns.boxplot(data=df, x=\"4g\", y=\"normalized_used_price\")\n",
    "\n",
    "plt.subplot(122)\n",
    "sns.boxplot(data=df, x=\"5g\", y=\"normalized_used_price\")\n",
    "\n",
    "plt.show()"
   ]
  },
  {
   "cell_type": "markdown",
   "metadata": {
    "id": "FLwmb353-uiK"
   },
   "source": [
    "#### Observations:\n",
    "\n",
    "* A mobile device having 4G or 5G is more likely to have a higher normalized used price\n",
    "* Mobile devices having 5G comand higher normalized used prices than mobile devices having 4G\n",
    "* The presence of outliers may be due to brand and age of mobile device but not unusual "
   ]
  },
  {
   "cell_type": "markdown",
   "metadata": {
    "id": "pVn5toJ7MKte"
   },
   "source": [
    "## Data Preprocessing"
   ]
  },
  {
   "cell_type": "markdown",
   "metadata": {
    "id": "YcceZiPd5vGV"
   },
   "source": [
    "- Missing value treatment\n",
    "- Feature engineering (if needed)\n",
    "- Outlier detection and treatment (if needed)\n",
    "- Preparing data for modeling\n",
    "- Any other preprocessing steps (if needed)"
   ]
  },
  {
   "cell_type": "code",
   "execution_count": 125,
   "metadata": {
    "id": "zUi6E9EUMKth"
   },
   "outputs": [],
   "source": [
    "# let's create a copy of the data\n",
    "df1 = df.copy()"
   ]
  },
  {
   "cell_type": "code",
   "execution_count": 126,
   "metadata": {
    "colab": {
     "base_uri": "https://localhost:8080/"
    },
    "id": "bWJZmWj5-uiN",
    "outputId": "9956c73b-6113-478e-dc05-159f0d1fe784"
   },
   "outputs": [
    {
     "data": {
      "text/plain": [
       "brand_name                 0\n",
       "os                         0\n",
       "screen_size                0\n",
       "4g                         0\n",
       "5g                         0\n",
       "main_camera_mp           179\n",
       "selfie_camera_mp           2\n",
       "int_memory                 4\n",
       "ram                        4\n",
       "battery                    6\n",
       "weight                     7\n",
       "release_year               0\n",
       "days_used                  0\n",
       "normalized_used_price      0\n",
       "normalized_new_price       0\n",
       "dtype: int64"
      ]
     },
     "execution_count": 126,
     "metadata": {},
     "output_type": "execute_result"
    }
   ],
   "source": [
    "# checking for missing values\n",
    "df1.isnull().sum() ## Complete the code to check missing values in all the columns"
   ]
  },
  {
   "cell_type": "code",
   "execution_count": 127,
   "metadata": {
    "colab": {
     "base_uri": "https://localhost:8080/"
    },
    "id": "TbjwK7EV-uiO",
    "outputId": "df34696d-8927-4c3a-a9b7-2b8a3967aa66"
   },
   "outputs": [
    {
     "data": {
      "text/plain": [
       "brand_name                 0\n",
       "os                         0\n",
       "screen_size                0\n",
       "4g                         0\n",
       "5g                         0\n",
       "main_camera_mp           179\n",
       "selfie_camera_mp           2\n",
       "int_memory                 0\n",
       "ram                        0\n",
       "battery                    6\n",
       "weight                     7\n",
       "release_year               0\n",
       "days_used                  0\n",
       "normalized_used_price      0\n",
       "normalized_new_price       0\n",
       "dtype: int64"
      ]
     },
     "execution_count": 127,
     "metadata": {},
     "output_type": "execute_result"
    }
   ],
   "source": [
    "cols_impute = [\n",
    "    \"main_camera_mp\",\n",
    "    \"selfie_camera_mp\",\n",
    "    \"int_memory\",\n",
    "    \"ram\",\n",
    "    \"battery\",\n",
    "    \"weight\",\n",
    "]\n",
    "\n",
    "for col in cols_impute:\n",
    "    df1[col] = df1[col].fillna(\n",
    "        value=df1.groupby(['release_year', 'brand_name'])[col].transform(\"median\")\n",
    "    )   ## Complete the code to impute missing values in cols_impute with median by grouping the data on release year and brand name \n",
    "\n",
    "# checking for missing values\n",
    "df1.isnull().sum() ## Complete the code to check missing values after imputing the above columns"
   ]
  },
  {
   "cell_type": "markdown",
   "metadata": {
    "id": "Pz4rR9-g-uiP"
   },
   "source": [
    "- We will impute the remaining missing values in the data by the column medians grouped by `brand_name`."
   ]
  },
  {
   "cell_type": "code",
   "execution_count": 128,
   "metadata": {
    "colab": {
     "base_uri": "https://localhost:8080/"
    },
    "id": "VOVjmm1x-uiQ",
    "outputId": "08667528-2518-460a-95b3-26e2240ddc1f"
   },
   "outputs": [
    {
     "data": {
      "text/plain": [
       "brand_name                0\n",
       "os                        0\n",
       "screen_size               0\n",
       "4g                        0\n",
       "5g                        0\n",
       "main_camera_mp           10\n",
       "selfie_camera_mp          0\n",
       "int_memory                0\n",
       "ram                       0\n",
       "battery                   0\n",
       "weight                    0\n",
       "release_year              0\n",
       "days_used                 0\n",
       "normalized_used_price     0\n",
       "normalized_new_price      0\n",
       "dtype: int64"
      ]
     },
     "execution_count": 128,
     "metadata": {},
     "output_type": "execute_result"
    }
   ],
   "source": [
    "cols_impute = [\n",
    "    \"main_camera_mp\",\n",
    "    \"selfie_camera_mp\",\n",
    "    \"battery\",\n",
    "    \"weight\",\n",
    "]\n",
    "\n",
    "for col in cols_impute:\n",
    "    df1[col] = df1[col].fillna(\n",
    "        value=df1.groupby(['brand_name'])[col].transform(\"median\")\n",
    "    ) ## Complete the code to impute the missing values in cols_impute with median by grouping the data on brand name\n",
    "\n",
    "# checking for missing values\n",
    "df1.isnull().sum() ## Complete the code to check missing values after imputing the above columns"
   ]
  },
  {
   "cell_type": "markdown",
   "metadata": {
    "id": "D-A8UUCD-uiQ"
   },
   "source": [
    "- We will fill the remaining missing values in the `main_camera_mp` column by the column median."
   ]
  },
  {
   "cell_type": "code",
   "execution_count": 129,
   "metadata": {
    "colab": {
     "base_uri": "https://localhost:8080/"
    },
    "id": "NGB1oCeK-uiR",
    "outputId": "6b571f55-78af-48ac-d9d4-a41e70602076"
   },
   "outputs": [
    {
     "data": {
      "text/plain": [
       "brand_name               0\n",
       "os                       0\n",
       "screen_size              0\n",
       "4g                       0\n",
       "5g                       0\n",
       "main_camera_mp           0\n",
       "selfie_camera_mp         0\n",
       "int_memory               0\n",
       "ram                      0\n",
       "battery                  0\n",
       "weight                   0\n",
       "release_year             0\n",
       "days_used                0\n",
       "normalized_used_price    0\n",
       "normalized_new_price     0\n",
       "dtype: int64"
      ]
     },
     "execution_count": 129,
     "metadata": {},
     "output_type": "execute_result"
    }
   ],
   "source": [
    "df1[\"main_camera_mp\"] = df1[\"main_camera_mp\"].fillna(df1[\"main_camera_mp\"].median()) ## Complete the code to impute the data with median\n",
    "\n",
    "# checking for missing values\n",
    "df1.isnull().sum() ## Complete the code to check missing values after imputing the above columns"
   ]
  },
  {
   "cell_type": "markdown",
   "metadata": {
    "id": "KNzFis7eEaXj"
   },
   "source": [
    "## EDA"
   ]
  },
  {
   "cell_type": "markdown",
   "metadata": {
    "id": "ZkYW8xGS5xdR"
   },
   "source": [
    "- It is a good idea to explore the data once again after manipulating it."
   ]
  },
  {
   "cell_type": "code",
   "execution_count": 130,
   "metadata": {
    "colab": {
     "base_uri": "https://localhost:8080/"
    },
    "id": "4lcDTGi9EZ1M",
    "outputId": "3ad25171-0ef6-4af6-fc6f-537b123029a5"
   },
   "outputs": [
    {
     "name": "stdout",
     "output_type": "stream",
     "text": [
      "<class 'pandas.core.frame.DataFrame'>\n",
      "RangeIndex: 3454 entries, 0 to 3453\n",
      "Data columns (total 15 columns):\n",
      " #   Column                 Non-Null Count  Dtype  \n",
      "---  ------                 --------------  -----  \n",
      " 0   brand_name             3454 non-null   object \n",
      " 1   os                     3454 non-null   object \n",
      " 2   screen_size            3454 non-null   float64\n",
      " 3   4g                     3454 non-null   object \n",
      " 4   5g                     3454 non-null   object \n",
      " 5   main_camera_mp         3454 non-null   float64\n",
      " 6   selfie_camera_mp       3454 non-null   float64\n",
      " 7   int_memory             3454 non-null   float64\n",
      " 8   ram                    3454 non-null   float64\n",
      " 9   battery                3454 non-null   float64\n",
      " 10  weight                 3454 non-null   float64\n",
      " 11  release_year           3454 non-null   int64  \n",
      " 12  days_used              3454 non-null   int64  \n",
      " 13  normalized_used_price  3454 non-null   float64\n",
      " 14  normalized_new_price   3454 non-null   float64\n",
      "dtypes: float64(9), int64(2), object(4)\n",
      "memory usage: 404.9+ KB\n"
     ]
    }
   ],
   "source": [
    "df1.info()"
   ]
  },
  {
   "cell_type": "markdown",
   "metadata": {
    "id": "KQ0_ohSU-uiS"
   },
   "source": [
    "### Feature Engineering"
   ]
  },
  {
   "cell_type": "markdown",
   "metadata": {
    "id": "KbTcVPf8-uib"
   },
   "source": [
    "- Let's create a new column `years_since_release` from the `release_year` column.\n",
    "- We will consider the year of data collection, 2021, as the baseline.\n",
    "- We will drop the `release_year` column."
   ]
  },
  {
   "cell_type": "code",
   "execution_count": 131,
   "metadata": {
    "colab": {
     "base_uri": "https://localhost:8080/"
    },
    "id": "OrRSPOvr-uic",
    "outputId": "dcecbc01-491c-41a4-db87-835461b6dc92"
   },
   "outputs": [
    {
     "data": {
      "text/plain": [
       "count    3454.000000\n",
       "mean        5.034742\n",
       "std         2.298455\n",
       "min         1.000000\n",
       "25%         3.000000\n",
       "50%         5.500000\n",
       "75%         7.000000\n",
       "max         8.000000\n",
       "Name: years_since_release, dtype: float64"
      ]
     },
     "execution_count": 131,
     "metadata": {},
     "output_type": "execute_result"
    }
   ],
   "source": [
    "df1[\"years_since_release\"] = 2021 - df1[\"release_year\"]\n",
    "df1.drop(\"release_year\", axis=1, inplace=True)\n",
    "df1[\"years_since_release\"].describe()"
   ]
  },
  {
   "cell_type": "markdown",
   "metadata": {
    "id": "ipndfJNV-uic"
   },
   "source": [
    "### Outlier Check\n",
    "\n",
    "- Let's check for outliers in the data."
   ]
  },
  {
   "cell_type": "code",
   "execution_count": 132,
   "metadata": {
    "colab": {
     "base_uri": "https://localhost:8080/"
    },
    "id": "17iF93V1-uid",
    "outputId": "4c5cb601-1b66-4126-937e-9cee3d3182fe"
   },
   "outputs": [
    {
     "data": {
      "image/png": "[encoded data removed]",
      "text/plain": [
       "<Figure size 1080x1080 with 11 Axes>"
      ]
     },
     "metadata": {
      "needs_background": "light"
     },
     "output_type": "display_data"
    }
   ],
   "source": [
    "# outlier detection using boxplot\n",
    "num_cols = df1.select_dtypes(include=np.number).columns.tolist()\n",
    "\n",
    "plt.figure(figsize=(15, 15))\n",
    "\n",
    "for i, variable in enumerate(num_cols):\n",
    "    plt.subplot(4, 3, i + 1)\n",
    "    sns.boxplot(data=df1, x=variable)\n",
    "    plt.tight_layout(pad=2)\n",
    "\n",
    "plt.show()"
   ]
  },
  {
   "cell_type": "markdown",
   "metadata": {
    "id": "73oj9YLg-uie"
   },
   "source": [
    "#### Observations\n",
    "\n",
    "* The outliers profile have not changed especially for columns that had missing values\n",
    "* The distribution of observations for each column have been generally preserved"
   ]
  },
  {
   "cell_type": "markdown",
   "metadata": {
    "id": "IXEzlxfn-uif"
   },
   "source": [
    "### Data Preparation for modeling\n",
    "\n",
    "- We want to predict the normalized price of used devices\n",
    "- Before we proceed to build a model, we'll have to encode categorical features\n",
    "- We'll split the data into train and test to be able to evaluate the model that we build on the train data\n",
    "- We will build a Linear Regression model using the train data and then check it's performance"
   ]
  },
  {
   "cell_type": "code",
   "execution_count": 133,
   "metadata": {
    "colab": {
     "base_uri": "https://localhost:8080/"
    },
    "id": "F5cg2HZ6-uif",
    "outputId": "26de1576-c095-4fba-beec-a8ac652a6378"
   },
   "outputs": [
    {
     "data": {
      "text/html": [
       "<div>\n",
       "<style scoped>\n",
       "    .dataframe tbody tr th:only-of-type {\n",
       "        vertical-align: middle;\n",
       "    }\n",
       "\n",
       "    .dataframe tbody tr th {\n",
       "        vertical-align: top;\n",
       "    }\n",
       "\n",
       "    .dataframe thead th {\n",
       "        text-align: right;\n",
       "    }\n",
       "</style>\n",
       "<table border=\"1\" class=\"dataframe\">\n",
       "  <thead>\n",
       "    <tr style=\"text-align: right;\">\n",
       "      <th></th>\n",
       "      <th>brand_name</th>\n",
       "      <th>os</th>\n",
       "      <th>screen_size</th>\n",
       "      <th>4g</th>\n",
       "      <th>5g</th>\n",
       "      <th>main_camera_mp</th>\n",
       "      <th>selfie_camera_mp</th>\n",
       "      <th>int_memory</th>\n",
       "      <th>ram</th>\n",
       "      <th>battery</th>\n",
       "      <th>weight</th>\n",
       "      <th>days_used</th>\n",
       "      <th>normalized_used_price</th>\n",
       "      <th>normalized_new_price</th>\n",
       "      <th>years_since_release</th>\n",
       "    </tr>\n",
       "  </thead>\n",
       "  <tbody>\n",
       "    <tr>\n",
       "      <th>0</th>\n",
       "      <td>Honor</td>\n",
       "      <td>Android</td>\n",
       "      <td>14.50</td>\n",
       "      <td>yes</td>\n",
       "      <td>no</td>\n",
       "      <td>13.0</td>\n",
       "      <td>5.0</td>\n",
       "      <td>64.0</td>\n",
       "      <td>3.0</td>\n",
       "      <td>3020.0</td>\n",
       "      <td>146.0</td>\n",
       "      <td>127</td>\n",
       "      <td>4.307572</td>\n",
       "      <td>4.715100</td>\n",
       "      <td>1</td>\n",
       "    </tr>\n",
       "    <tr>\n",
       "      <th>1</th>\n",
       "      <td>Honor</td>\n",
       "      <td>Android</td>\n",
       "      <td>17.30</td>\n",
       "      <td>yes</td>\n",
       "      <td>yes</td>\n",
       "      <td>13.0</td>\n",
       "      <td>16.0</td>\n",
       "      <td>128.0</td>\n",
       "      <td>8.0</td>\n",
       "      <td>4300.0</td>\n",
       "      <td>213.0</td>\n",
       "      <td>325</td>\n",
       "      <td>5.162097</td>\n",
       "      <td>5.519018</td>\n",
       "      <td>1</td>\n",
       "    </tr>\n",
       "    <tr>\n",
       "      <th>2</th>\n",
       "      <td>Honor</td>\n",
       "      <td>Android</td>\n",
       "      <td>16.69</td>\n",
       "      <td>yes</td>\n",
       "      <td>yes</td>\n",
       "      <td>13.0</td>\n",
       "      <td>8.0</td>\n",
       "      <td>128.0</td>\n",
       "      <td>8.0</td>\n",
       "      <td>4200.0</td>\n",
       "      <td>213.0</td>\n",
       "      <td>162</td>\n",
       "      <td>5.111084</td>\n",
       "      <td>5.884631</td>\n",
       "      <td>1</td>\n",
       "    </tr>\n",
       "    <tr>\n",
       "      <th>3</th>\n",
       "      <td>Honor</td>\n",
       "      <td>Android</td>\n",
       "      <td>25.50</td>\n",
       "      <td>yes</td>\n",
       "      <td>yes</td>\n",
       "      <td>13.0</td>\n",
       "      <td>8.0</td>\n",
       "      <td>64.0</td>\n",
       "      <td>6.0</td>\n",
       "      <td>7250.0</td>\n",
       "      <td>480.0</td>\n",
       "      <td>345</td>\n",
       "      <td>5.135387</td>\n",
       "      <td>5.630961</td>\n",
       "      <td>1</td>\n",
       "    </tr>\n",
       "    <tr>\n",
       "      <th>4</th>\n",
       "      <td>Honor</td>\n",
       "      <td>Android</td>\n",
       "      <td>15.32</td>\n",
       "      <td>yes</td>\n",
       "      <td>no</td>\n",
       "      <td>13.0</td>\n",
       "      <td>8.0</td>\n",
       "      <td>64.0</td>\n",
       "      <td>3.0</td>\n",
       "      <td>5000.0</td>\n",
       "      <td>185.0</td>\n",
       "      <td>293</td>\n",
       "      <td>4.389995</td>\n",
       "      <td>4.947837</td>\n",
       "      <td>1</td>\n",
       "    </tr>\n",
       "  </tbody>\n",
       "</table>\n",
       "</div>"
      ],
      "text/plain": [
       "  brand_name       os  screen_size   4g   5g  main_camera_mp  \\\n",
       "0      Honor  Android        14.50  yes   no            13.0   \n",
       "1      Honor  Android        17.30  yes  yes            13.0   \n",
       "2      Honor  Android        16.69  yes  yes            13.0   \n",
       "3      Honor  Android        25.50  yes  yes            13.0   \n",
       "4      Honor  Android        15.32  yes   no            13.0   \n",
       "\n",
       "   selfie_camera_mp  int_memory  ram  battery  weight  days_used  \\\n",
       "0               5.0        64.0  3.0   3020.0   146.0        127   \n",
       "1              16.0       128.0  8.0   4300.0   213.0        325   \n",
       "2               8.0       128.0  8.0   4200.0   213.0        162   \n",
       "3               8.0        64.0  6.0   7250.0   480.0        345   \n",
       "4               8.0        64.0  3.0   5000.0   185.0        293   \n",
       "\n",
       "   normalized_used_price  normalized_new_price  years_since_release  \n",
       "0               4.307572              4.715100                    1  \n",
       "1               5.162097              5.519018                    1  \n",
       "2               5.111084              5.884631                    1  \n",
       "3               5.135387              5.630961                    1  \n",
       "4               4.389995              4.947837                    1  "
      ]
     },
     "execution_count": 133,
     "metadata": {},
     "output_type": "execute_result"
    }
   ],
   "source": [
    "df1.head()"
   ]
  },
  {
   "cell_type": "code",
   "execution_count": 134,
   "metadata": {
    "colab": {
     "base_uri": "https://localhost:8080/"
    },
    "id": "tIvPm21m-uig",
    "outputId": "b4bd50b1-6386-4471-b734-fc386878df5f"
   },
   "outputs": [
    {
     "name": "stdout",
     "output_type": "stream",
     "text": [
      "  brand_name       os  screen_size   4g   5g  main_camera_mp  \\\n",
      "0      Honor  Android        14.50  yes   no            13.0   \n",
      "1      Honor  Android        17.30  yes  yes            13.0   \n",
      "2      Honor  Android        16.69  yes  yes            13.0   \n",
      "3      Honor  Android        25.50  yes  yes            13.0   \n",
      "4      Honor  Android        15.32  yes   no            13.0   \n",
      "\n",
      "   selfie_camera_mp  int_memory  ram  battery  weight  days_used  \\\n",
      "0               5.0        64.0  3.0   3020.0   146.0        127   \n",
      "1              16.0       128.0  8.0   4300.0   213.0        325   \n",
      "2               8.0       128.0  8.0   4200.0   213.0        162   \n",
      "3               8.0        64.0  6.0   7250.0   480.0        345   \n",
      "4               8.0        64.0  3.0   5000.0   185.0        293   \n",
      "\n",
      "   normalized_new_price  years_since_release  \n",
      "0              4.715100                    1  \n",
      "1              5.519018                    1  \n",
      "2              5.884631                    1  \n",
      "3              5.630961                    1  \n",
      "4              4.947837                    1  \n",
      "\n",
      "   normalized_used_price\n",
      "0               4.307572\n",
      "1               5.162097\n",
      "2               5.111084\n",
      "3               5.135387\n",
      "4               4.389995\n"
     ]
    }
   ],
   "source": [
    "## Complete the code to define the dependent and independent variables\n",
    "X = df1.drop([\"normalized_used_price\"], axis=1)\n",
    "y = df1[[\"normalized_used_price\"]]\n",
    "\n",
    "print(X.head())\n",
    "print()\n",
    "print(y.head())"
   ]
  },
  {
   "cell_type": "code",
   "execution_count": 135,
   "metadata": {
    "colab": {
     "base_uri": "https://localhost:8080/"
    },
    "id": "5iqC2ghy-uih",
    "outputId": "82b44aa8-f81b-49d7-a739-3d3b4c63e5a0"
   },
   "outputs": [],
   "source": [
    "# let's add the intercept to data\n",
    "X = sm.add_constant(X)"
   ]
  },
  {
   "cell_type": "code",
   "execution_count": 136,
   "metadata": {
    "colab": {
     "base_uri": "https://localhost:8080/"
    },
    "id": "TLDqAaMP-uii",
    "outputId": "6290cbc6-9f6a-4854-d429-1db531805542"
   },
   "outputs": [
    {
     "data": {
      "text/html": [
       "<div>\n",
       "<style scoped>\n",
       "    .dataframe tbody tr th:only-of-type {\n",
       "        vertical-align: middle;\n",
       "    }\n",
       "\n",
       "    .dataframe tbody tr th {\n",
       "        vertical-align: top;\n",
       "    }\n",
       "\n",
       "    .dataframe thead th {\n",
       "        text-align: right;\n",
       "    }\n",
       "</style>\n",
       "<table border=\"1\" class=\"dataframe\">\n",
       "  <thead>\n",
       "    <tr style=\"text-align: right;\">\n",
       "      <th></th>\n",
       "      <th>const</th>\n",
       "      <th>screen_size</th>\n",
       "      <th>main_camera_mp</th>\n",
       "      <th>selfie_camera_mp</th>\n",
       "      <th>int_memory</th>\n",
       "      <th>ram</th>\n",
       "      <th>battery</th>\n",
       "      <th>weight</th>\n",
       "      <th>days_used</th>\n",
       "      <th>normalized_new_price</th>\n",
       "      <th>...</th>\n",
       "      <th>brand_name_Spice</th>\n",
       "      <th>brand_name_Vivo</th>\n",
       "      <th>brand_name_XOLO</th>\n",
       "      <th>brand_name_Xiaomi</th>\n",
       "      <th>brand_name_ZTE</th>\n",
       "      <th>os_Others</th>\n",
       "      <th>os_Windows</th>\n",
       "      <th>os_iOS</th>\n",
       "      <th>4g_yes</th>\n",
       "      <th>5g_yes</th>\n",
       "    </tr>\n",
       "  </thead>\n",
       "  <tbody>\n",
       "    <tr>\n",
       "      <th>0</th>\n",
       "      <td>1.0</td>\n",
       "      <td>14.50</td>\n",
       "      <td>13.0</td>\n",
       "      <td>5.0</td>\n",
       "      <td>64.0</td>\n",
       "      <td>3.0</td>\n",
       "      <td>3020.0</td>\n",
       "      <td>146.0</td>\n",
       "      <td>127</td>\n",
       "      <td>4.715100</td>\n",
       "      <td>...</td>\n",
       "      <td>0</td>\n",
       "      <td>0</td>\n",
       "      <td>0</td>\n",
       "      <td>0</td>\n",
       "      <td>0</td>\n",
       "      <td>0</td>\n",
       "      <td>0</td>\n",
       "      <td>0</td>\n",
       "      <td>1</td>\n",
       "      <td>0</td>\n",
       "    </tr>\n",
       "    <tr>\n",
       "      <th>1</th>\n",
       "      <td>1.0</td>\n",
       "      <td>17.30</td>\n",
       "      <td>13.0</td>\n",
       "      <td>16.0</td>\n",
       "      <td>128.0</td>\n",
       "      <td>8.0</td>\n",
       "      <td>4300.0</td>\n",
       "      <td>213.0</td>\n",
       "      <td>325</td>\n",
       "      <td>5.519018</td>\n",
       "      <td>...</td>\n",
       "      <td>0</td>\n",
       "      <td>0</td>\n",
       "      <td>0</td>\n",
       "      <td>0</td>\n",
       "      <td>0</td>\n",
       "      <td>0</td>\n",
       "      <td>0</td>\n",
       "      <td>0</td>\n",
       "      <td>1</td>\n",
       "      <td>1</td>\n",
       "    </tr>\n",
       "    <tr>\n",
       "      <th>2</th>\n",
       "      <td>1.0</td>\n",
       "      <td>16.69</td>\n",
       "      <td>13.0</td>\n",
       "      <td>8.0</td>\n",
       "      <td>128.0</td>\n",
       "      <td>8.0</td>\n",
       "      <td>4200.0</td>\n",
       "      <td>213.0</td>\n",
       "      <td>162</td>\n",
       "      <td>5.884631</td>\n",
       "      <td>...</td>\n",
       "      <td>0</td>\n",
       "      <td>0</td>\n",
       "      <td>0</td>\n",
       "      <td>0</td>\n",
       "      <td>0</td>\n",
       "      <td>0</td>\n",
       "      <td>0</td>\n",
       "      <td>0</td>\n",
       "      <td>1</td>\n",
       "      <td>1</td>\n",
       "    </tr>\n",
       "    <tr>\n",
       "      <th>3</th>\n",
       "      <td>1.0</td>\n",
       "      <td>25.50</td>\n",
       "      <td>13.0</td>\n",
       "      <td>8.0</td>\n",
       "      <td>64.0</td>\n",
       "      <td>6.0</td>\n",
       "      <td>7250.0</td>\n",
       "      <td>480.0</td>\n",
       "      <td>345</td>\n",
       "      <td>5.630961</td>\n",
       "      <td>...</td>\n",
       "      <td>0</td>\n",
       "      <td>0</td>\n",
       "      <td>0</td>\n",
       "      <td>0</td>\n",
       "      <td>0</td>\n",
       "      <td>0</td>\n",
       "      <td>0</td>\n",
       "      <td>0</td>\n",
       "      <td>1</td>\n",
       "      <td>1</td>\n",
       "    </tr>\n",
       "    <tr>\n",
       "      <th>4</th>\n",
       "      <td>1.0</td>\n",
       "      <td>15.32</td>\n",
       "      <td>13.0</td>\n",
       "      <td>8.0</td>\n",
       "      <td>64.0</td>\n",
       "      <td>3.0</td>\n",
       "      <td>5000.0</td>\n",
       "      <td>185.0</td>\n",
       "      <td>293</td>\n",
       "      <td>4.947837</td>\n",
       "      <td>...</td>\n",
       "      <td>0</td>\n",
       "      <td>0</td>\n",
       "      <td>0</td>\n",
       "      <td>0</td>\n",
       "      <td>0</td>\n",
       "      <td>0</td>\n",
       "      <td>0</td>\n",
       "      <td>0</td>\n",
       "      <td>1</td>\n",
       "      <td>0</td>\n",
       "    </tr>\n",
       "  </tbody>\n",
       "</table>\n",
       "<p>5 rows × 49 columns</p>\n",
       "</div>"
      ],
      "text/plain": [
       "   const  screen_size  main_camera_mp  selfie_camera_mp  int_memory  ram  \\\n",
       "0    1.0        14.50            13.0               5.0        64.0  3.0   \n",
       "1    1.0        17.30            13.0              16.0       128.0  8.0   \n",
       "2    1.0        16.69            13.0               8.0       128.0  8.0   \n",
       "3    1.0        25.50            13.0               8.0        64.0  6.0   \n",
       "4    1.0        15.32            13.0               8.0        64.0  3.0   \n",
       "\n",
       "   battery  weight  days_used  normalized_new_price  ...  brand_name_Spice  \\\n",
       "0   3020.0   146.0        127              4.715100  ...                 0   \n",
       "1   4300.0   213.0        325              5.519018  ...                 0   \n",
       "2   4200.0   213.0        162              5.884631  ...                 0   \n",
       "3   7250.0   480.0        345              5.630961  ...                 0   \n",
       "4   5000.0   185.0        293              4.947837  ...                 0   \n",
       "\n",
       "   brand_name_Vivo  brand_name_XOLO  brand_name_Xiaomi  brand_name_ZTE  \\\n",
       "0                0                0                  0               0   \n",
       "1                0                0                  0               0   \n",
       "2                0                0                  0               0   \n",
       "3                0                0                  0               0   \n",
       "4                0                0                  0               0   \n",
       "\n",
       "   os_Others  os_Windows  os_iOS  4g_yes  5g_yes  \n",
       "0          0           0       0       1       0  \n",
       "1          0           0       0       1       1  \n",
       "2          0           0       0       1       1  \n",
       "3          0           0       0       1       1  \n",
       "4          0           0       0       1       0  \n",
       "\n",
       "[5 rows x 49 columns]"
      ]
     },
     "execution_count": 136,
     "metadata": {},
     "output_type": "execute_result"
    }
   ],
   "source": [
    "# creating dummy variables\n",
    "X = pd.get_dummies(\n",
    "    X,\n",
    "    columns=X.select_dtypes(include=[\"object\", \"category\"]).columns.tolist(),\n",
    "    drop_first=True,\n",
    ")  ## Complete the code to create dummies for independent features\n",
    "\n",
    "X.head()"
   ]
  },
  {
   "cell_type": "code",
   "execution_count": 137,
   "metadata": {
    "id": "ZYnyQoo8-uij"
   },
   "outputs": [],
   "source": [
    "# splitting the data in 70:30 ratio for train to test data\n",
    "\n",
    "x_train, x_test, y_train, y_test = train_test_split(X, y, test_size=0.3, random_state=1) ## Complete the code to split the data into train and test in specified ratio"
   ]
  },
  {
   "cell_type": "code",
   "execution_count": 138,
   "metadata": {
    "colab": {
     "base_uri": "https://localhost:8080/"
    },
    "id": "rV9BXP52-uij",
    "outputId": "82066a18-1de7-40f0-81d1-a05d42118269"
   },
   "outputs": [
    {
     "name": "stdout",
     "output_type": "stream",
     "text": [
      "Number of rows in train data = 2417\n",
      "Number of rows in test data = 1037\n"
     ]
    }
   ],
   "source": [
    "print(\"Number of rows in train data =\", x_train.shape[0])\n",
    "print(\"Number of rows in test data =\", x_test.shape[0])"
   ]
  },
  {
   "cell_type": "markdown",
   "metadata": {
    "id": "HeUzI1OB4rqM"
   },
   "source": [
    "## Model Building - Linear Regression"
   ]
  },
  {
   "cell_type": "code",
   "execution_count": 139,
   "metadata": {
    "colab": {
     "base_uri": "https://localhost:8080/"
    },
    "id": "ZNRiMg0wMKth",
    "outputId": "aa9727a4-cccc-41d1-fb43-b8fc31c1c92e"
   },
   "outputs": [
    {
     "name": "stdout",
     "output_type": "stream",
     "text": [
      "                              OLS Regression Results                             \n",
      "=================================================================================\n",
      "Dep. Variable:     normalized_used_price   R-squared:                       0.845\n",
      "Model:                               OLS   Adj. R-squared:                  0.842\n",
      "Method:                    Least Squares   F-statistic:                     268.7\n",
      "Date:                   Mon, 22 May 2023   Prob (F-statistic):               0.00\n",
      "Time:                           16:27:24   Log-Likelihood:                 123.85\n",
      "No. Observations:                   2417   AIC:                            -149.7\n",
      "Df Residuals:                       2368   BIC:                             134.0\n",
      "Df Model:                             48                                         \n",
      "Covariance Type:               nonrobust                                         \n",
      "=========================================================================================\n",
      "                            coef    std err          t      P>|t|      [0.025      0.975]\n",
      "-----------------------------------------------------------------------------------------\n",
      "const                     1.3156      0.071     18.454      0.000       1.176       1.455\n",
      "screen_size               0.0244      0.003      7.163      0.000       0.018       0.031\n",
      "main_camera_mp            0.0208      0.002     13.848      0.000       0.018       0.024\n",
      "selfie_camera_mp          0.0135      0.001     11.997      0.000       0.011       0.016\n",
      "int_memory                0.0001   6.97e-05      1.651      0.099   -2.16e-05       0.000\n",
      "ram                       0.0230      0.005      4.451      0.000       0.013       0.033\n",
      "battery               -1.689e-05   7.27e-06     -2.321      0.020   -3.12e-05   -2.62e-06\n",
      "weight                    0.0010      0.000      7.480      0.000       0.001       0.001\n",
      "days_used              4.216e-05   3.09e-05      1.366      0.172   -1.84e-05       0.000\n",
      "normalized_new_price      0.4311      0.012     35.147      0.000       0.407       0.455\n",
      "years_since_release      -0.0237      0.005     -5.193      0.000      -0.033      -0.015\n",
      "brand_name_Alcatel        0.0154      0.048      0.323      0.747      -0.078       0.109\n",
      "brand_name_Apple         -0.0038      0.147     -0.026      0.980      -0.292       0.285\n",
      "brand_name_Asus           0.0151      0.048      0.314      0.753      -0.079       0.109\n",
      "brand_name_BlackBerry    -0.0300      0.070     -0.427      0.669      -0.168       0.108\n",
      "brand_name_Celkon        -0.0468      0.066     -0.707      0.480      -0.177       0.083\n",
      "brand_name_Coolpad        0.0209      0.073      0.287      0.774      -0.122       0.164\n",
      "brand_name_Gionee         0.0448      0.058      0.775      0.438      -0.068       0.158\n",
      "brand_name_Google        -0.0326      0.085     -0.385      0.700      -0.199       0.133\n",
      "brand_name_HTC           -0.0130      0.048     -0.270      0.787      -0.108       0.081\n",
      "brand_name_Honor          0.0317      0.049      0.644      0.520      -0.065       0.128\n",
      "brand_name_Huawei        -0.0020      0.044     -0.046      0.964      -0.089       0.085\n",
      "brand_name_Infinix        0.1633      0.093      1.752      0.080      -0.019       0.346\n",
      "brand_name_Karbonn        0.0943      0.067      1.405      0.160      -0.037       0.226\n",
      "brand_name_LG            -0.0132      0.045     -0.291      0.771      -0.102       0.076\n",
      "brand_name_Lava           0.0332      0.062      0.533      0.594      -0.089       0.155\n",
      "brand_name_Lenovo         0.0454      0.045      1.004      0.316      -0.043       0.134\n",
      "brand_name_Meizu         -0.0129      0.056     -0.230      0.818      -0.123       0.097\n",
      "brand_name_Micromax      -0.0337      0.048     -0.704      0.481      -0.128       0.060\n",
      "brand_name_Microsoft      0.0952      0.088      1.078      0.281      -0.078       0.268\n",
      "brand_name_Motorola      -0.0112      0.050     -0.226      0.821      -0.109       0.086\n",
      "brand_name_Nokia          0.0719      0.052      1.387      0.166      -0.030       0.174\n",
      "brand_name_OnePlus        0.0709      0.077      0.916      0.360      -0.081       0.223\n",
      "brand_name_Oppo           0.0124      0.048      0.261      0.794      -0.081       0.106\n",
      "brand_name_Others        -0.0080      0.042     -0.190      0.849      -0.091       0.075\n",
      "brand_name_Panasonic      0.0563      0.056      1.008      0.314      -0.053       0.166\n",
      "brand_name_Realme         0.0319      0.062      0.518      0.605      -0.089       0.153\n",
      "brand_name_Samsung       -0.0313      0.043     -0.725      0.469      -0.116       0.053\n",
      "brand_name_Sony          -0.0616      0.050     -1.220      0.223      -0.161       0.037\n",
      "brand_name_Spice         -0.0147      0.063     -0.233      0.816      -0.139       0.109\n",
      "brand_name_Vivo          -0.0154      0.048     -0.318      0.750      -0.110       0.080\n",
      "brand_name_XOLO           0.0152      0.055      0.277      0.782      -0.092       0.123\n",
      "brand_name_Xiaomi         0.0869      0.048      1.806      0.071      -0.007       0.181\n",
      "brand_name_ZTE           -0.0057      0.047     -0.121      0.904      -0.099       0.087\n",
      "os_Others                -0.0510      0.033     -1.555      0.120      -0.115       0.013\n",
      "os_Windows               -0.0207      0.045     -0.459      0.646      -0.109       0.068\n",
      "os_iOS                   -0.0663      0.146     -0.453      0.651      -0.354       0.221\n",
      "4g_yes                    0.0528      0.016      3.326      0.001       0.022       0.084\n",
      "5g_yes                   -0.0714      0.031     -2.268      0.023      -0.133      -0.010\n",
      "==============================================================================\n",
      "Omnibus:                      223.612   Durbin-Watson:                   1.910\n",
      "Prob(Omnibus):                  0.000   Jarque-Bera (JB):              422.275\n",
      "Skew:                          -0.620   Prob(JB):                     2.01e-92\n",
      "Kurtosis:                       4.630   Cond. No.                     1.78e+05\n",
      "==============================================================================\n",
      "\n",
      "Notes:\n",
      "[1] Standard Errors assume that the covariance matrix of the errors is correctly specified.\n",
      "[2] The condition number is large, 1.78e+05. This might indicate that there are\n",
      "strong multicollinearity or other numerical problems.\n"
     ]
    }
   ],
   "source": [
    "olsmodel1 = sm.OLS(y_train, x_train).fit() ## Complete the code to fit OLS model\n",
    "print(olsmodel1.summary())"
   ]
  },
  {
   "cell_type": "markdown",
   "metadata": {
    "id": "V4YonEpG-uil"
   },
   "source": [
    "#### Interpretation the Regression Results:\n",
    "\n",
    "1. **Adjusted R-squared**: It reflects the fit of the model.\n",
    "        - The value for adj. R-squared is **0.842**, which is quite good.\n",
    "\n",
    "\n",
    "2. ***const* coefficient**: It is the Y-intercept when all the predictor variable coefficients are zero.\n",
    "       - The value for `const` coefficient is **1.3156**\n",
    "\n",
    "\n",
    "3. **Coefficient of a predictor variable**: It represents the change in the output Y due to a change in the predictor variable (everything else held constant).\n",
    "       - For eexample, the coefficient of `screen_size` is **0.0244**.\n",
    "    \n",
    "    \n",
    "4. **Dummy Variables**: We created dummy variables for the categorical columns `brand_name`, `os`, `4g` and `5g`\n",
    "       - The dropped dummy variable for each categorical feature are  brand_name_Acer, os_Android, 4g_no, 5g_no"
   ]
  },
  {
   "cell_type": "markdown",
   "metadata": {
    "id": "f4-o7394-uim"
   },
   "source": [
    "### Model Performance Check\n",
    "\n",
    "**Let's check the performance of the model using different metrics.**\n",
    "\n",
    "* We will be using metric functions defined in sklearn for RMSE, MAE, and $R^2$.\n",
    "* We will define a function to calculate MAPE and adjusted $R^2$.    \n",
    "* We will create a function which will print out all the above metrics in one go."
   ]
  },
  {
   "cell_type": "code",
   "execution_count": 140,
   "metadata": {
    "id": "iPasv2ih-uim"
   },
   "outputs": [],
   "source": [
    "# function to compute adjusted R-squared\n",
    "def adj_r2_score(predictors, targets, predictions):\n",
    "    r2 = r2_score(targets, predictions)\n",
    "    n = predictors.shape[0]\n",
    "    k = predictors.shape[1]\n",
    "    return 1 - ((1 - r2) * (n - 1) / (n - k - 1))\n",
    "\n",
    "\n",
    "# function to compute MAPE\n",
    "def mape_score(targets, predictions):\n",
    "    return np.mean(np.abs(targets - predictions) / targets) * 100\n",
    "\n",
    "\n",
    "# function to compute different metrics to check performance of a regression model\n",
    "def model_performance_regression(model, predictors, target):\n",
    "    \"\"\"\n",
    "    Function to compute different metrics to check regression model performance\n",
    "\n",
    "    model: regressor\n",
    "    predictors: independent variables\n",
    "    target: dependent variable\n",
    "    \"\"\"\n",
    "\n",
    "    # predicting using the independent variables\n",
    "    pred = model.predict(predictors)\n",
    "\n",
    "    r2 = r2_score(target, pred)  # to compute R-squared\n",
    "    adjr2 = adj_r2_score(predictors, target, pred)  # to compute adjusted R-squared\n",
    "    rmse = np.sqrt(mean_squared_error(target, pred))  # to compute RMSE\n",
    "    mae = mean_absolute_error(target, pred)  # to compute MAE\n",
    "    mape = mape_score(target, pred)  # to compute MAPE\n",
    "\n",
    "    # creating a dataframe of metrics\n",
    "    df_perf = pd.DataFrame(\n",
    "        {\n",
    "            \"RMSE\": rmse,\n",
    "            \"MAE\": mae,\n",
    "            \"R-squared\": r2,\n",
    "            \"Adj. R-squared\": adjr2,\n",
    "            \"MAPE\": mape,\n",
    "        },\n",
    "        index=[0],\n",
    "    )\n",
    "\n",
    "    return df_perf"
   ]
  },
  {
   "cell_type": "code",
   "execution_count": 141,
   "metadata": {
    "colab": {
     "base_uri": "https://localhost:8080/"
    },
    "id": "9YQ-hmO5-uin",
    "outputId": "6596d347-8b7d-4283-d55a-62e757200e4f"
   },
   "outputs": [
    {
     "name": "stdout",
     "output_type": "stream",
     "text": [
      "Training Performance\n",
      "\n"
     ]
    },
    {
     "data": {
      "text/html": [
       "<div>\n",
       "<style scoped>\n",
       "    .dataframe tbody tr th:only-of-type {\n",
       "        vertical-align: middle;\n",
       "    }\n",
       "\n",
       "    .dataframe tbody tr th {\n",
       "        vertical-align: top;\n",
       "    }\n",
       "\n",
       "    .dataframe thead th {\n",
       "        text-align: right;\n",
       "    }\n",
       "</style>\n",
       "<table border=\"1\" class=\"dataframe\">\n",
       "  <thead>\n",
       "    <tr style=\"text-align: right;\">\n",
       "      <th></th>\n",
       "      <th>RMSE</th>\n",
       "      <th>MAE</th>\n",
       "      <th>R-squared</th>\n",
       "      <th>Adj. R-squared</th>\n",
       "      <th>MAPE</th>\n",
       "    </tr>\n",
       "  </thead>\n",
       "  <tbody>\n",
       "    <tr>\n",
       "      <th>0</th>\n",
       "      <td>0.229884</td>\n",
       "      <td>0.180326</td>\n",
       "      <td>0.844886</td>\n",
       "      <td>0.841675</td>\n",
       "      <td>NaN</td>\n",
       "    </tr>\n",
       "  </tbody>\n",
       "</table>\n",
       "</div>"
      ],
      "text/plain": [
       "       RMSE       MAE  R-squared  Adj. R-squared  MAPE\n",
       "0  0.229884  0.180326   0.844886        0.841675   NaN"
      ]
     },
     "execution_count": 141,
     "metadata": {},
     "output_type": "execute_result"
    }
   ],
   "source": [
    "# checking model performance on train set (seen 70% data)\n",
    "print(\"Training Performance\\n\")\n",
    "olsmodel1_train_perf = model_performance_regression(olsmodel1, x_train, y_train)\n",
    "olsmodel1_train_perf"
   ]
  },
  {
   "cell_type": "code",
   "execution_count": 142,
   "metadata": {
    "colab": {
     "base_uri": "https://localhost:8080/"
    },
    "id": "_1VVD_SD-uin",
    "outputId": "26e2d42c-2818-4ce6-94ae-613756da7836"
   },
   "outputs": [
    {
     "name": "stdout",
     "output_type": "stream",
     "text": [
      "Test Performance\n",
      "\n"
     ]
    },
    {
     "data": {
      "text/html": [
       "<div>\n",
       "<style scoped>\n",
       "    .dataframe tbody tr th:only-of-type {\n",
       "        vertical-align: middle;\n",
       "    }\n",
       "\n",
       "    .dataframe tbody tr th {\n",
       "        vertical-align: top;\n",
       "    }\n",
       "\n",
       "    .dataframe thead th {\n",
       "        text-align: right;\n",
       "    }\n",
       "</style>\n",
       "<table border=\"1\" class=\"dataframe\">\n",
       "  <thead>\n",
       "    <tr style=\"text-align: right;\">\n",
       "      <th></th>\n",
       "      <th>RMSE</th>\n",
       "      <th>MAE</th>\n",
       "      <th>R-squared</th>\n",
       "      <th>Adj. R-squared</th>\n",
       "      <th>MAPE</th>\n",
       "    </tr>\n",
       "  </thead>\n",
       "  <tbody>\n",
       "    <tr>\n",
       "      <th>0</th>\n",
       "      <td>0.238358</td>\n",
       "      <td>0.184749</td>\n",
       "      <td>0.842479</td>\n",
       "      <td>0.834659</td>\n",
       "      <td>NaN</td>\n",
       "    </tr>\n",
       "  </tbody>\n",
       "</table>\n",
       "</div>"
      ],
      "text/plain": [
       "       RMSE       MAE  R-squared  Adj. R-squared  MAPE\n",
       "0  0.238358  0.184749   0.842479        0.834659   NaN"
      ]
     },
     "execution_count": 142,
     "metadata": {},
     "output_type": "execute_result"
    }
   ],
   "source": [
    "# checking model performance on test set (seen 30% data)\n",
    "print(\"Test Performance\\n\")\n",
    "olsmodel1_test_perf = model_performance_regression(olsmodel1, x_test, y_test) ## Complete the code to check the performance on test data\n",
    "olsmodel1_test_perf"
   ]
  },
  {
   "cell_type": "markdown",
   "metadata": {
    "id": "k3e6gzxdMKti"
   },
   "source": [
    "## Checking Linear Regression Assumptions\n",
    "\n",
    "\n",
    "We will be checking the following Linear Regression assumptions:\n",
    "\n",
    "1. **No Multicollinearity**\n",
    "\n",
    "2. **Linearity of variables**\n",
    "\n",
    "3. **Independence of error terms**\n",
    "\n",
    "4. **Normality of error terms**\n",
    "\n",
    "5. **No Heteroscedasticity**\n",
    "\n",
    "\n",
    "### TEST FOR MULTICOLLINEARITY\n",
    "\n",
    "- We will test for multicollinearity using VIF.\n",
    "\n",
    "- **General Rule of thumb**:\n",
    "    - If VIF is 1 then there is no correlation between the $k$th predictor and the remaining predictor variables.\n",
    "    - If VIF exceeds 5 or is close to exceeding 5, we say there is moderate multicollinearity.\n",
    "    - If VIF is 10 or exceeding 10, it shows signs of high multicollinearity."
   ]
  },
  {
   "cell_type": "markdown",
   "metadata": {
    "id": "naX-iXItqH-b"
   },
   "source": [
    "Let's define a function to check VIF."
   ]
  },
  {
   "cell_type": "code",
   "execution_count": 143,
   "metadata": {
    "id": "zspw-xRP-uip"
   },
   "outputs": [],
   "source": [
    "# Let's define a function to check VIF.def checking_vif(predictors):\n",
    "from statsmodels.stats.outliers_influence import variance_inflation_factor\n",
    "\n",
    "\n",
    "def checking_vif(predictors):\n",
    "    vif = pd.DataFrame()\n",
    "    vif[\"feature\"] = predictors.columns\n",
    "\n",
    "    # calculating VIF for each feature\n",
    "    vif[\"VIF\"] = [\n",
    "        variance_inflation_factor(predictors.values, i)\n",
    "        for i in range(len(predictors.columns))\n",
    "    ]\n",
    "    return vif"
   ]
  },
  {
   "cell_type": "code",
   "execution_count": 144,
   "metadata": {
    "colab": {
     "base_uri": "https://localhost:8080/",
     "height": 1000
    },
    "id": "8Lqq1sMY-uip",
    "outputId": "f53afaed-3087-4fcf-b087-7d432cc7e4c5"
   },
   "outputs": [
    {
     "data": {
      "text/html": [
       "<div>\n",
       "<style scoped>\n",
       "    .dataframe tbody tr th:only-of-type {\n",
       "        vertical-align: middle;\n",
       "    }\n",
       "\n",
       "    .dataframe tbody tr th {\n",
       "        vertical-align: top;\n",
       "    }\n",
       "\n",
       "    .dataframe thead th {\n",
       "        text-align: right;\n",
       "    }\n",
       "</style>\n",
       "<table border=\"1\" class=\"dataframe\">\n",
       "  <thead>\n",
       "    <tr style=\"text-align: right;\">\n",
       "      <th></th>\n",
       "      <th>feature</th>\n",
       "      <th>VIF</th>\n",
       "    </tr>\n",
       "  </thead>\n",
       "  <tbody>\n",
       "    <tr>\n",
       "      <th>0</th>\n",
       "      <td>const</td>\n",
       "      <td>227.744081</td>\n",
       "    </tr>\n",
       "    <tr>\n",
       "      <th>1</th>\n",
       "      <td>screen_size</td>\n",
       "      <td>7.677290</td>\n",
       "    </tr>\n",
       "    <tr>\n",
       "      <th>2</th>\n",
       "      <td>main_camera_mp</td>\n",
       "      <td>2.285051</td>\n",
       "    </tr>\n",
       "    <tr>\n",
       "      <th>3</th>\n",
       "      <td>selfie_camera_mp</td>\n",
       "      <td>2.812473</td>\n",
       "    </tr>\n",
       "    <tr>\n",
       "      <th>4</th>\n",
       "      <td>int_memory</td>\n",
       "      <td>1.364152</td>\n",
       "    </tr>\n",
       "    <tr>\n",
       "      <th>5</th>\n",
       "      <td>ram</td>\n",
       "      <td>2.282352</td>\n",
       "    </tr>\n",
       "    <tr>\n",
       "      <th>6</th>\n",
       "      <td>battery</td>\n",
       "      <td>4.081780</td>\n",
       "    </tr>\n",
       "    <tr>\n",
       "      <th>7</th>\n",
       "      <td>weight</td>\n",
       "      <td>6.396749</td>\n",
       "    </tr>\n",
       "    <tr>\n",
       "      <th>8</th>\n",
       "      <td>days_used</td>\n",
       "      <td>2.660269</td>\n",
       "    </tr>\n",
       "    <tr>\n",
       "      <th>9</th>\n",
       "      <td>normalized_new_price</td>\n",
       "      <td>3.119430</td>\n",
       "    </tr>\n",
       "    <tr>\n",
       "      <th>10</th>\n",
       "      <td>years_since_release</td>\n",
       "      <td>4.899007</td>\n",
       "    </tr>\n",
       "    <tr>\n",
       "      <th>11</th>\n",
       "      <td>brand_name_Alcatel</td>\n",
       "      <td>3.405693</td>\n",
       "    </tr>\n",
       "    <tr>\n",
       "      <th>12</th>\n",
       "      <td>brand_name_Apple</td>\n",
       "      <td>13.057668</td>\n",
       "    </tr>\n",
       "    <tr>\n",
       "      <th>13</th>\n",
       "      <td>brand_name_Asus</td>\n",
       "      <td>3.332038</td>\n",
       "    </tr>\n",
       "    <tr>\n",
       "      <th>14</th>\n",
       "      <td>brand_name_BlackBerry</td>\n",
       "      <td>1.632378</td>\n",
       "    </tr>\n",
       "    <tr>\n",
       "      <th>15</th>\n",
       "      <td>brand_name_Celkon</td>\n",
       "      <td>1.774721</td>\n",
       "    </tr>\n",
       "    <tr>\n",
       "      <th>16</th>\n",
       "      <td>brand_name_Coolpad</td>\n",
       "      <td>1.468006</td>\n",
       "    </tr>\n",
       "    <tr>\n",
       "      <th>17</th>\n",
       "      <td>brand_name_Gionee</td>\n",
       "      <td>1.951272</td>\n",
       "    </tr>\n",
       "    <tr>\n",
       "      <th>18</th>\n",
       "      <td>brand_name_Google</td>\n",
       "      <td>1.321778</td>\n",
       "    </tr>\n",
       "    <tr>\n",
       "      <th>19</th>\n",
       "      <td>brand_name_HTC</td>\n",
       "      <td>3.410361</td>\n",
       "    </tr>\n",
       "    <tr>\n",
       "      <th>20</th>\n",
       "      <td>brand_name_Honor</td>\n",
       "      <td>3.340687</td>\n",
       "    </tr>\n",
       "    <tr>\n",
       "      <th>21</th>\n",
       "      <td>brand_name_Huawei</td>\n",
       "      <td>5.983852</td>\n",
       "    </tr>\n",
       "    <tr>\n",
       "      <th>22</th>\n",
       "      <td>brand_name_Infinix</td>\n",
       "      <td>1.283955</td>\n",
       "    </tr>\n",
       "    <tr>\n",
       "      <th>23</th>\n",
       "      <td>brand_name_Karbonn</td>\n",
       "      <td>1.573702</td>\n",
       "    </tr>\n",
       "    <tr>\n",
       "      <th>24</th>\n",
       "      <td>brand_name_LG</td>\n",
       "      <td>4.849832</td>\n",
       "    </tr>\n",
       "    <tr>\n",
       "      <th>25</th>\n",
       "      <td>brand_name_Lava</td>\n",
       "      <td>1.711360</td>\n",
       "    </tr>\n",
       "    <tr>\n",
       "      <th>26</th>\n",
       "      <td>brand_name_Lenovo</td>\n",
       "      <td>4.558941</td>\n",
       "    </tr>\n",
       "    <tr>\n",
       "      <th>27</th>\n",
       "      <td>brand_name_Meizu</td>\n",
       "      <td>2.179607</td>\n",
       "    </tr>\n",
       "    <tr>\n",
       "      <th>28</th>\n",
       "      <td>brand_name_Micromax</td>\n",
       "      <td>3.363521</td>\n",
       "    </tr>\n",
       "    <tr>\n",
       "      <th>29</th>\n",
       "      <td>brand_name_Microsoft</td>\n",
       "      <td>1.869751</td>\n",
       "    </tr>\n",
       "    <tr>\n",
       "      <th>30</th>\n",
       "      <td>brand_name_Motorola</td>\n",
       "      <td>3.274558</td>\n",
       "    </tr>\n",
       "    <tr>\n",
       "      <th>31</th>\n",
       "      <td>brand_name_Nokia</td>\n",
       "      <td>3.479849</td>\n",
       "    </tr>\n",
       "    <tr>\n",
       "      <th>32</th>\n",
       "      <td>brand_name_OnePlus</td>\n",
       "      <td>1.437034</td>\n",
       "    </tr>\n",
       "    <tr>\n",
       "      <th>33</th>\n",
       "      <td>brand_name_Oppo</td>\n",
       "      <td>3.971194</td>\n",
       "    </tr>\n",
       "    <tr>\n",
       "      <th>34</th>\n",
       "      <td>brand_name_Others</td>\n",
       "      <td>9.711034</td>\n",
       "    </tr>\n",
       "    <tr>\n",
       "      <th>35</th>\n",
       "      <td>brand_name_Panasonic</td>\n",
       "      <td>2.105703</td>\n",
       "    </tr>\n",
       "    <tr>\n",
       "      <th>36</th>\n",
       "      <td>brand_name_Realme</td>\n",
       "      <td>1.946812</td>\n",
       "    </tr>\n",
       "    <tr>\n",
       "      <th>37</th>\n",
       "      <td>brand_name_Samsung</td>\n",
       "      <td>7.539866</td>\n",
       "    </tr>\n",
       "    <tr>\n",
       "      <th>38</th>\n",
       "      <td>brand_name_Sony</td>\n",
       "      <td>2.943161</td>\n",
       "    </tr>\n",
       "    <tr>\n",
       "      <th>39</th>\n",
       "      <td>brand_name_Spice</td>\n",
       "      <td>1.688863</td>\n",
       "    </tr>\n",
       "    <tr>\n",
       "      <th>40</th>\n",
       "      <td>brand_name_Vivo</td>\n",
       "      <td>3.651437</td>\n",
       "    </tr>\n",
       "    <tr>\n",
       "      <th>41</th>\n",
       "      <td>brand_name_XOLO</td>\n",
       "      <td>2.138070</td>\n",
       "    </tr>\n",
       "    <tr>\n",
       "      <th>42</th>\n",
       "      <td>brand_name_Xiaomi</td>\n",
       "      <td>3.719689</td>\n",
       "    </tr>\n",
       "    <tr>\n",
       "      <th>43</th>\n",
       "      <td>brand_name_ZTE</td>\n",
       "      <td>3.797581</td>\n",
       "    </tr>\n",
       "    <tr>\n",
       "      <th>44</th>\n",
       "      <td>os_Others</td>\n",
       "      <td>1.859863</td>\n",
       "    </tr>\n",
       "    <tr>\n",
       "      <th>45</th>\n",
       "      <td>os_Windows</td>\n",
       "      <td>1.596034</td>\n",
       "    </tr>\n",
       "    <tr>\n",
       "      <th>46</th>\n",
       "      <td>os_iOS</td>\n",
       "      <td>11.784684</td>\n",
       "    </tr>\n",
       "    <tr>\n",
       "      <th>47</th>\n",
       "      <td>4g_yes</td>\n",
       "      <td>2.467681</td>\n",
       "    </tr>\n",
       "    <tr>\n",
       "      <th>48</th>\n",
       "      <td>5g_yes</td>\n",
       "      <td>1.813900</td>\n",
       "    </tr>\n",
       "  </tbody>\n",
       "</table>\n",
       "</div>"
      ],
      "text/plain": [
       "                  feature         VIF\n",
       "0                   const  227.744081\n",
       "1             screen_size    7.677290\n",
       "2          main_camera_mp    2.285051\n",
       "3        selfie_camera_mp    2.812473\n",
       "4              int_memory    1.364152\n",
       "5                     ram    2.282352\n",
       "6                 battery    4.081780\n",
       "7                  weight    6.396749\n",
       "8               days_used    2.660269\n",
       "9    normalized_new_price    3.119430\n",
       "10    years_since_release    4.899007\n",
       "11     brand_name_Alcatel    3.405693\n",
       "12       brand_name_Apple   13.057668\n",
       "13        brand_name_Asus    3.332038\n",
       "14  brand_name_BlackBerry    1.632378\n",
       "15      brand_name_Celkon    1.774721\n",
       "16     brand_name_Coolpad    1.468006\n",
       "17      brand_name_Gionee    1.951272\n",
       "18      brand_name_Google    1.321778\n",
       "19         brand_name_HTC    3.410361\n",
       "20       brand_name_Honor    3.340687\n",
       "21      brand_name_Huawei    5.983852\n",
       "22     brand_name_Infinix    1.283955\n",
       "23     brand_name_Karbonn    1.573702\n",
       "24          brand_name_LG    4.849832\n",
       "25        brand_name_Lava    1.711360\n",
       "26      brand_name_Lenovo    4.558941\n",
       "27       brand_name_Meizu    2.179607\n",
       "28    brand_name_Micromax    3.363521\n",
       "29   brand_name_Microsoft    1.869751\n",
       "30    brand_name_Motorola    3.274558\n",
       "31       brand_name_Nokia    3.479849\n",
       "32     brand_name_OnePlus    1.437034\n",
       "33        brand_name_Oppo    3.971194\n",
       "34      brand_name_Others    9.711034\n",
       "35   brand_name_Panasonic    2.105703\n",
       "36      brand_name_Realme    1.946812\n",
       "37     brand_name_Samsung    7.539866\n",
       "38        brand_name_Sony    2.943161\n",
       "39       brand_name_Spice    1.688863\n",
       "40        brand_name_Vivo    3.651437\n",
       "41        brand_name_XOLO    2.138070\n",
       "42      brand_name_Xiaomi    3.719689\n",
       "43         brand_name_ZTE    3.797581\n",
       "44              os_Others    1.859863\n",
       "45             os_Windows    1.596034\n",
       "46                 os_iOS   11.784684\n",
       "47                 4g_yes    2.467681\n",
       "48                 5g_yes    1.813900"
      ]
     },
     "execution_count": 144,
     "metadata": {},
     "output_type": "execute_result"
    }
   ],
   "source": [
    "checking_vif(x_train)"
   ]
  },
  {
   "cell_type": "markdown",
   "metadata": {
    "id": "zSkxf_TR-uiq"
   },
   "source": [
    "### Removing Multicollinearity (if needed)\n",
    "\n",
    "\n",
    "To remove multicollinearity\n",
    "\n",
    "1. Drop every column one by one that has a VIF score greater than 5.\n",
    "2. Look at the adjusted R-squared and RMSE of all these models.\n",
    "3. Drop the variable that makes the least change in adjusted R-squared.\n",
    "4. Check the VIF scores again.\n",
    "5. Continue till you get all VIF scores under 5.\n",
    "\n",
    "Let's define a function that will help us do this."
   ]
  },
  {
   "cell_type": "code",
   "execution_count": 145,
   "metadata": {
    "id": "VV_YDx-o-uir"
   },
   "outputs": [],
   "source": [
    "def treating_multicollinearity(predictors, target, high_vif_columns):\n",
    "    \"\"\"\n",
    "    Checking the effect of dropping the columns showing high multicollinearity\n",
    "    on model performance (adj. R-squared and RMSE)\n",
    "\n",
    "    predictors: independent variables\n",
    "    target: dependent variable\n",
    "    high_vif_columns: columns having high VIF\n",
    "    \"\"\"\n",
    "    # empty lists to store adj. R-squared and RMSE values\n",
    "    adj_r2 = []\n",
    "    rmse = []\n",
    "\n",
    "    # build ols models by dropping one of the high VIF columns at a time\n",
    "    # store the adjusted R-squared and RMSE in the lists defined previously\n",
    "    for cols in high_vif_columns:\n",
    "        # defining the new train set\n",
    "        train = predictors.loc[:, ~predictors.columns.str.startswith(cols)]\n",
    "\n",
    "        # create the model\n",
    "        olsmodel = sm.OLS(target, train).fit()\n",
    "\n",
    "        # adding adj. R-squared and RMSE to the lists\n",
    "        adj_r2.append(olsmodel.rsquared_adj)\n",
    "        rmse.append(np.sqrt(olsmodel.mse_resid))\n",
    "\n",
    "    # creating a dataframe for the results\n",
    "    temp = pd.DataFrame(\n",
    "        {\n",
    "            \"col\": high_vif_columns,\n",
    "            \"Adj. R-squared after_dropping col\": adj_r2,\n",
    "            \"RMSE after dropping col\": rmse,\n",
    "        }\n",
    "    ).sort_values(by=\"Adj. R-squared after_dropping col\", ascending=False)\n",
    "    temp.reset_index(drop=True, inplace=True)\n",
    "\n",
    "    return temp"
   ]
  },
  {
   "cell_type": "code",
   "execution_count": 146,
   "metadata": {
    "colab": {
     "base_uri": "https://localhost:8080/",
     "height": 287
    },
    "id": "_hpzZwTb-uis",
    "outputId": "2c246ff0-067b-4b62-93d6-530bf7b70701"
   },
   "outputs": [
    {
     "data": {
      "text/html": [
       "<div>\n",
       "<style scoped>\n",
       "    .dataframe tbody tr th:only-of-type {\n",
       "        vertical-align: middle;\n",
       "    }\n",
       "\n",
       "    .dataframe tbody tr th {\n",
       "        vertical-align: top;\n",
       "    }\n",
       "\n",
       "    .dataframe thead th {\n",
       "        text-align: right;\n",
       "    }\n",
       "</style>\n",
       "<table border=\"1\" class=\"dataframe\">\n",
       "  <thead>\n",
       "    <tr style=\"text-align: right;\">\n",
       "      <th></th>\n",
       "      <th>col</th>\n",
       "      <th>Adj. R-squared after_dropping col</th>\n",
       "      <th>RMSE after dropping col</th>\n",
       "    </tr>\n",
       "  </thead>\n",
       "  <tbody>\n",
       "    <tr>\n",
       "      <th>0</th>\n",
       "      <td>screen_size</td>\n",
       "      <td>0.838381</td>\n",
       "      <td>0.234703</td>\n",
       "    </tr>\n",
       "    <tr>\n",
       "      <th>1</th>\n",
       "      <td>weight</td>\n",
       "      <td>0.838071</td>\n",
       "      <td>0.234928</td>\n",
       "    </tr>\n",
       "  </tbody>\n",
       "</table>\n",
       "</div>"
      ],
      "text/plain": [
       "           col  Adj. R-squared after_dropping col  RMSE after dropping col\n",
       "0  screen_size                           0.838381                 0.234703\n",
       "1       weight                           0.838071                 0.234928"
      ]
     },
     "execution_count": 146,
     "metadata": {},
     "output_type": "execute_result"
    }
   ],
   "source": [
    "col_list = [\"screen_size\", \"weight\"]\n",
    "\n",
    "res = treating_multicollinearity(x_train, y_train, col_list)\n",
    "res"
   ]
  },
  {
   "cell_type": "code",
   "execution_count": 147,
   "metadata": {
    "colab": {
     "base_uri": "https://localhost:8080/",
     "height": 1000
    },
    "id": "DFXHLeTf-uis",
    "outputId": "20398a50-cf87-4198-dc7f-e7520e11170c"
   },
   "outputs": [
    {
     "name": "stdout",
     "output_type": "stream",
     "text": [
      "VIF after dropping  screen_size\n"
     ]
    },
    {
     "data": {
      "text/html": [
       "<div>\n",
       "<style scoped>\n",
       "    .dataframe tbody tr th:only-of-type {\n",
       "        vertical-align: middle;\n",
       "    }\n",
       "\n",
       "    .dataframe tbody tr th {\n",
       "        vertical-align: top;\n",
       "    }\n",
       "\n",
       "    .dataframe thead th {\n",
       "        text-align: right;\n",
       "    }\n",
       "</style>\n",
       "<table border=\"1\" class=\"dataframe\">\n",
       "  <thead>\n",
       "    <tr style=\"text-align: right;\">\n",
       "      <th></th>\n",
       "      <th>feature</th>\n",
       "      <th>VIF</th>\n",
       "    </tr>\n",
       "  </thead>\n",
       "  <tbody>\n",
       "    <tr>\n",
       "      <th>0</th>\n",
       "      <td>const</td>\n",
       "      <td>202.673906</td>\n",
       "    </tr>\n",
       "    <tr>\n",
       "      <th>1</th>\n",
       "      <td>main_camera_mp</td>\n",
       "      <td>2.281835</td>\n",
       "    </tr>\n",
       "    <tr>\n",
       "      <th>2</th>\n",
       "      <td>selfie_camera_mp</td>\n",
       "      <td>2.809009</td>\n",
       "    </tr>\n",
       "    <tr>\n",
       "      <th>3</th>\n",
       "      <td>int_memory</td>\n",
       "      <td>1.362043</td>\n",
       "    </tr>\n",
       "    <tr>\n",
       "      <th>4</th>\n",
       "      <td>ram</td>\n",
       "      <td>2.282350</td>\n",
       "    </tr>\n",
       "    <tr>\n",
       "      <th>5</th>\n",
       "      <td>battery</td>\n",
       "      <td>3.842989</td>\n",
       "    </tr>\n",
       "    <tr>\n",
       "      <th>6</th>\n",
       "      <td>weight</td>\n",
       "      <td>2.993855</td>\n",
       "    </tr>\n",
       "    <tr>\n",
       "      <th>7</th>\n",
       "      <td>days_used</td>\n",
       "      <td>2.648929</td>\n",
       "    </tr>\n",
       "    <tr>\n",
       "      <th>8</th>\n",
       "      <td>normalized_new_price</td>\n",
       "      <td>3.077650</td>\n",
       "    </tr>\n",
       "    <tr>\n",
       "      <th>9</th>\n",
       "      <td>years_since_release</td>\n",
       "      <td>4.730315</td>\n",
       "    </tr>\n",
       "    <tr>\n",
       "      <th>10</th>\n",
       "      <td>brand_name_Alcatel</td>\n",
       "      <td>3.405533</td>\n",
       "    </tr>\n",
       "    <tr>\n",
       "      <th>11</th>\n",
       "      <td>brand_name_Apple</td>\n",
       "      <td>13.000338</td>\n",
       "    </tr>\n",
       "    <tr>\n",
       "      <th>12</th>\n",
       "      <td>brand_name_Asus</td>\n",
       "      <td>3.326698</td>\n",
       "    </tr>\n",
       "    <tr>\n",
       "      <th>13</th>\n",
       "      <td>brand_name_BlackBerry</td>\n",
       "      <td>1.631042</td>\n",
       "    </tr>\n",
       "    <tr>\n",
       "      <th>14</th>\n",
       "      <td>brand_name_Celkon</td>\n",
       "      <td>1.774528</td>\n",
       "    </tr>\n",
       "    <tr>\n",
       "      <th>15</th>\n",
       "      <td>brand_name_Coolpad</td>\n",
       "      <td>1.467719</td>\n",
       "    </tr>\n",
       "    <tr>\n",
       "      <th>16</th>\n",
       "      <td>brand_name_Gionee</td>\n",
       "      <td>1.941437</td>\n",
       "    </tr>\n",
       "    <tr>\n",
       "      <th>17</th>\n",
       "      <td>brand_name_Google</td>\n",
       "      <td>1.319334</td>\n",
       "    </tr>\n",
       "    <tr>\n",
       "      <th>18</th>\n",
       "      <td>brand_name_HTC</td>\n",
       "      <td>3.399980</td>\n",
       "    </tr>\n",
       "    <tr>\n",
       "      <th>19</th>\n",
       "      <td>brand_name_Honor</td>\n",
       "      <td>3.340354</td>\n",
       "    </tr>\n",
       "    <tr>\n",
       "      <th>20</th>\n",
       "      <td>brand_name_Huawei</td>\n",
       "      <td>5.981046</td>\n",
       "    </tr>\n",
       "    <tr>\n",
       "      <th>21</th>\n",
       "      <td>brand_name_Infinix</td>\n",
       "      <td>1.283526</td>\n",
       "    </tr>\n",
       "    <tr>\n",
       "      <th>22</th>\n",
       "      <td>brand_name_Karbonn</td>\n",
       "      <td>1.573494</td>\n",
       "    </tr>\n",
       "    <tr>\n",
       "      <th>23</th>\n",
       "      <td>brand_name_LG</td>\n",
       "      <td>4.832548</td>\n",
       "    </tr>\n",
       "    <tr>\n",
       "      <th>24</th>\n",
       "      <td>brand_name_Lava</td>\n",
       "      <td>1.711092</td>\n",
       "    </tr>\n",
       "    <tr>\n",
       "      <th>25</th>\n",
       "      <td>brand_name_Lenovo</td>\n",
       "      <td>4.553789</td>\n",
       "    </tr>\n",
       "    <tr>\n",
       "      <th>26</th>\n",
       "      <td>brand_name_Meizu</td>\n",
       "      <td>2.176424</td>\n",
       "    </tr>\n",
       "    <tr>\n",
       "      <th>27</th>\n",
       "      <td>brand_name_Micromax</td>\n",
       "      <td>3.358629</td>\n",
       "    </tr>\n",
       "    <tr>\n",
       "      <th>28</th>\n",
       "      <td>brand_name_Microsoft</td>\n",
       "      <td>1.868243</td>\n",
       "    </tr>\n",
       "    <tr>\n",
       "      <th>29</th>\n",
       "      <td>brand_name_Motorola</td>\n",
       "      <td>3.262356</td>\n",
       "    </tr>\n",
       "    <tr>\n",
       "      <th>30</th>\n",
       "      <td>brand_name_Nokia</td>\n",
       "      <td>3.464643</td>\n",
       "    </tr>\n",
       "    <tr>\n",
       "      <th>31</th>\n",
       "      <td>brand_name_OnePlus</td>\n",
       "      <td>1.437004</td>\n",
       "    </tr>\n",
       "    <tr>\n",
       "      <th>32</th>\n",
       "      <td>brand_name_Oppo</td>\n",
       "      <td>3.965445</td>\n",
       "    </tr>\n",
       "    <tr>\n",
       "      <th>33</th>\n",
       "      <td>brand_name_Others</td>\n",
       "      <td>9.652572</td>\n",
       "    </tr>\n",
       "    <tr>\n",
       "      <th>34</th>\n",
       "      <td>brand_name_Panasonic</td>\n",
       "      <td>2.104853</td>\n",
       "    </tr>\n",
       "    <tr>\n",
       "      <th>35</th>\n",
       "      <td>brand_name_Realme</td>\n",
       "      <td>1.943845</td>\n",
       "    </tr>\n",
       "    <tr>\n",
       "      <th>36</th>\n",
       "      <td>brand_name_Samsung</td>\n",
       "      <td>7.523421</td>\n",
       "    </tr>\n",
       "    <tr>\n",
       "      <th>37</th>\n",
       "      <td>brand_name_Sony</td>\n",
       "      <td>2.937375</td>\n",
       "    </tr>\n",
       "    <tr>\n",
       "      <th>38</th>\n",
       "      <td>brand_name_Spice</td>\n",
       "      <td>1.683302</td>\n",
       "    </tr>\n",
       "    <tr>\n",
       "      <th>39</th>\n",
       "      <td>brand_name_Vivo</td>\n",
       "      <td>3.650625</td>\n",
       "    </tr>\n",
       "    <tr>\n",
       "      <th>40</th>\n",
       "      <td>brand_name_XOLO</td>\n",
       "      <td>2.137844</td>\n",
       "    </tr>\n",
       "    <tr>\n",
       "      <th>41</th>\n",
       "      <td>brand_name_Xiaomi</td>\n",
       "      <td>3.713988</td>\n",
       "    </tr>\n",
       "    <tr>\n",
       "      <th>42</th>\n",
       "      <td>brand_name_ZTE</td>\n",
       "      <td>3.788971</td>\n",
       "    </tr>\n",
       "    <tr>\n",
       "      <th>43</th>\n",
       "      <td>os_Others</td>\n",
       "      <td>1.625212</td>\n",
       "    </tr>\n",
       "    <tr>\n",
       "      <th>44</th>\n",
       "      <td>os_Windows</td>\n",
       "      <td>1.595936</td>\n",
       "    </tr>\n",
       "    <tr>\n",
       "      <th>45</th>\n",
       "      <td>os_iOS</td>\n",
       "      <td>11.678957</td>\n",
       "    </tr>\n",
       "    <tr>\n",
       "      <th>46</th>\n",
       "      <td>4g_yes</td>\n",
       "      <td>2.466915</td>\n",
       "    </tr>\n",
       "    <tr>\n",
       "      <th>47</th>\n",
       "      <td>5g_yes</td>\n",
       "      <td>1.810289</td>\n",
       "    </tr>\n",
       "  </tbody>\n",
       "</table>\n",
       "</div>"
      ],
      "text/plain": [
       "                  feature         VIF\n",
       "0                   const  202.673906\n",
       "1          main_camera_mp    2.281835\n",
       "2        selfie_camera_mp    2.809009\n",
       "3              int_memory    1.362043\n",
       "4                     ram    2.282350\n",
       "5                 battery    3.842989\n",
       "6                  weight    2.993855\n",
       "7               days_used    2.648929\n",
       "8    normalized_new_price    3.077650\n",
       "9     years_since_release    4.730315\n",
       "10     brand_name_Alcatel    3.405533\n",
       "11       brand_name_Apple   13.000338\n",
       "12        brand_name_Asus    3.326698\n",
       "13  brand_name_BlackBerry    1.631042\n",
       "14      brand_name_Celkon    1.774528\n",
       "15     brand_name_Coolpad    1.467719\n",
       "16      brand_name_Gionee    1.941437\n",
       "17      brand_name_Google    1.319334\n",
       "18         brand_name_HTC    3.399980\n",
       "19       brand_name_Honor    3.340354\n",
       "20      brand_name_Huawei    5.981046\n",
       "21     brand_name_Infinix    1.283526\n",
       "22     brand_name_Karbonn    1.573494\n",
       "23          brand_name_LG    4.832548\n",
       "24        brand_name_Lava    1.711092\n",
       "25      brand_name_Lenovo    4.553789\n",
       "26       brand_name_Meizu    2.176424\n",
       "27    brand_name_Micromax    3.358629\n",
       "28   brand_name_Microsoft    1.868243\n",
       "29    brand_name_Motorola    3.262356\n",
       "30       brand_name_Nokia    3.464643\n",
       "31     brand_name_OnePlus    1.437004\n",
       "32        brand_name_Oppo    3.965445\n",
       "33      brand_name_Others    9.652572\n",
       "34   brand_name_Panasonic    2.104853\n",
       "35      brand_name_Realme    1.943845\n",
       "36     brand_name_Samsung    7.523421\n",
       "37        brand_name_Sony    2.937375\n",
       "38       brand_name_Spice    1.683302\n",
       "39        brand_name_Vivo    3.650625\n",
       "40        brand_name_XOLO    2.137844\n",
       "41      brand_name_Xiaomi    3.713988\n",
       "42         brand_name_ZTE    3.788971\n",
       "43              os_Others    1.625212\n",
       "44             os_Windows    1.595936\n",
       "45                 os_iOS   11.678957\n",
       "46                 4g_yes    2.466915\n",
       "47                 5g_yes    1.810289"
      ]
     },
     "execution_count": 147,
     "metadata": {},
     "output_type": "execute_result"
    }
   ],
   "source": [
    "col_to_drop = \"screen_size\"\n",
    "x_train2 = x_train.loc[:, ~x_train.columns.str.startswith(col_to_drop)]\n",
    "x_test2 = x_test.loc[:, ~x_test.columns.str.startswith(col_to_drop)]\n",
    "\n",
    "# Check VIF now\n",
    "vif = checking_vif(x_train2)\n",
    "print(\"VIF after dropping \", col_to_drop)\n",
    "vif"
   ]
  },
  {
   "cell_type": "markdown",
   "metadata": {
    "id": "YKLp6Gi6-uit"
   },
   "source": [
    "### Dropping high p-value variables (if needed)\n",
    "\n",
    "- We will drop the predictor variables having a p-value greater than 0.05 as they do not significantly impact the target variable.\n",
    "- But sometimes p-values change after dropping a variable. So, we'll not drop all variables at once.\n",
    "- Instead, we will do the following:\n",
    "    - Build a model, check the p-values of the variables, and drop the column with the highest p-value.\n",
    "    - Create a new model without the dropped feature, check the p-values of the variables, and drop the column with the highest p-value.\n",
    "    - Repeat the above two steps till there are no columns with p-value > 0.05.\n",
    "\n",
    "The above process can also be done manually by picking one variable at a time that has a high p-value, dropping it, and building a model again. But that might be a little tedious and using a loop will be more efficient."
   ]
  },
  {
   "cell_type": "code",
   "execution_count": 148,
   "metadata": {
    "colab": {
     "base_uri": "https://localhost:8080/"
    },
    "id": "adUz66s_-uiu",
    "outputId": "a07cd06e-4635-4864-d350-fe170bef95bd"
   },
   "outputs": [
    {
     "name": "stdout",
     "output_type": "stream",
     "text": [
      "['const', 'main_camera_mp', 'selfie_camera_mp', 'ram', 'weight', 'normalized_new_price', 'years_since_release', 'brand_name_Karbonn', 'brand_name_Samsung', 'brand_name_Sony', 'brand_name_Xiaomi', 'os_Others', 'os_iOS', '4g_yes', '5g_yes']\n"
     ]
    }
   ],
   "source": [
    "# initial list of columns\n",
    "predictors = x_train2.copy()  ## Complete the code to check for p-values on the right dataset\n",
    "cols = predictors.columns.tolist()\n",
    "\n",
    "# setting an initial max p-value\n",
    "max_p_value = 1\n",
    "\n",
    "while len(cols) > 0:\n",
    "    # defining the train set\n",
    "    x_train_aux = predictors[cols]\n",
    "\n",
    "    # fitting the model\n",
    "    model = sm.OLS(y_train, x_train_aux).fit()\n",
    "\n",
    "    # getting the p-values and the maximum p-value\n",
    "    p_values = model.pvalues\n",
    "    max_p_value = max(p_values)\n",
    "\n",
    "    # name of the variable with maximum p-value\n",
    "    feature_with_p_max = p_values.idxmax()\n",
    "\n",
    "    if max_p_value > 0.05:\n",
    "        cols.remove(feature_with_p_max)\n",
    "    else:\n",
    "        break\n",
    "\n",
    "selected_features = cols\n",
    "print(selected_features)"
   ]
  },
  {
   "cell_type": "code",
   "execution_count": 149,
   "metadata": {
    "id": "5Qr_-Ri--uiw"
   },
   "outputs": [],
   "source": [
    "x_train3 = x_train2[selected_features]\n",
    "x_test3 = x_test2[selected_features]"
   ]
  },
  {
   "cell_type": "code",
   "execution_count": 150,
   "metadata": {
    "colab": {
     "base_uri": "https://localhost:8080/"
    },
    "id": "2wmoOj9Y-uiw",
    "outputId": "9f179534-de92-4f5b-e559-22b645cca077"
   },
   "outputs": [
    {
     "name": "stdout",
     "output_type": "stream",
     "text": [
      "                              OLS Regression Results                             \n",
      "=================================================================================\n",
      "Dep. Variable:     normalized_used_price   R-squared:                       0.839\n",
      "Model:                               OLS   Adj. R-squared:                  0.838\n",
      "Method:                    Least Squares   F-statistic:                     895.7\n",
      "Date:                   Mon, 22 May 2023   Prob (F-statistic):               0.00\n",
      "Time:                           16:27:27   Log-Likelihood:                 80.645\n",
      "No. Observations:                   2417   AIC:                            -131.3\n",
      "Df Residuals:                       2402   BIC:                            -44.44\n",
      "Df Model:                             14                                         \n",
      "Covariance Type:               nonrobust                                         \n",
      "========================================================================================\n",
      "                           coef    std err          t      P>|t|      [0.025      0.975]\n",
      "----------------------------------------------------------------------------------------\n",
      "const                    1.5000      0.048     30.955      0.000       1.405       1.595\n",
      "main_camera_mp           0.0210      0.001     14.714      0.000       0.018       0.024\n",
      "selfie_camera_mp         0.0138      0.001     12.858      0.000       0.012       0.016\n",
      "ram                      0.0207      0.005      4.151      0.000       0.011       0.030\n",
      "weight                   0.0017      6e-05     27.672      0.000       0.002       0.002\n",
      "normalized_new_price     0.4415      0.011     39.337      0.000       0.419       0.463\n",
      "years_since_release     -0.0292      0.003     -8.589      0.000      -0.036      -0.023\n",
      "brand_name_Karbonn       0.1156      0.055      2.111      0.035       0.008       0.223\n",
      "brand_name_Samsung      -0.0374      0.016     -2.270      0.023      -0.070      -0.005\n",
      "brand_name_Sony         -0.0670      0.030     -2.197      0.028      -0.127      -0.007\n",
      "brand_name_Xiaomi        0.0801      0.026      3.114      0.002       0.030       0.130\n",
      "os_Others               -0.1276      0.027     -4.667      0.000      -0.181      -0.074\n",
      "os_iOS                  -0.0900      0.045     -1.994      0.046      -0.179      -0.002\n",
      "4g_yes                   0.0502      0.015      3.326      0.001       0.021       0.080\n",
      "5g_yes                  -0.0673      0.031     -2.194      0.028      -0.127      -0.007\n",
      "==============================================================================\n",
      "Omnibus:                      246.183   Durbin-Watson:                   1.902\n",
      "Prob(Omnibus):                  0.000   Jarque-Bera (JB):              483.879\n",
      "Skew:                          -0.658   Prob(JB):                    8.45e-106\n",
      "Kurtosis:                       4.753   Cond. No.                     2.39e+03\n",
      "==============================================================================\n",
      "\n",
      "Notes:\n",
      "[1] Standard Errors assume that the covariance matrix of the errors is correctly specified.\n",
      "[2] The condition number is large, 2.39e+03. This might indicate that there are\n",
      "strong multicollinearity or other numerical problems.\n"
     ]
    }
   ],
   "source": [
    "olsmod2 = sm.OLS(y_train, x_train3).fit()\n",
    "print(olsmod2.summary())"
   ]
  },
  {
   "cell_type": "code",
   "execution_count": 151,
   "metadata": {
    "colab": {
     "base_uri": "https://localhost:8080/",
     "height": 115
    },
    "id": "13Sh2mGk-uix",
    "outputId": "ba4f9671-d9c9-403a-a872-2d03e625e96c"
   },
   "outputs": [
    {
     "name": "stdout",
     "output_type": "stream",
     "text": [
      "Training Performance\n",
      "\n"
     ]
    },
    {
     "data": {
      "text/html": [
       "<div>\n",
       "<style scoped>\n",
       "    .dataframe tbody tr th:only-of-type {\n",
       "        vertical-align: middle;\n",
       "    }\n",
       "\n",
       "    .dataframe tbody tr th {\n",
       "        vertical-align: top;\n",
       "    }\n",
       "\n",
       "    .dataframe thead th {\n",
       "        text-align: right;\n",
       "    }\n",
       "</style>\n",
       "<table border=\"1\" class=\"dataframe\">\n",
       "  <thead>\n",
       "    <tr style=\"text-align: right;\">\n",
       "      <th></th>\n",
       "      <th>RMSE</th>\n",
       "      <th>MAE</th>\n",
       "      <th>R-squared</th>\n",
       "      <th>Adj. R-squared</th>\n",
       "      <th>MAPE</th>\n",
       "    </tr>\n",
       "  </thead>\n",
       "  <tbody>\n",
       "    <tr>\n",
       "      <th>0</th>\n",
       "      <td>0.23403</td>\n",
       "      <td>0.182751</td>\n",
       "      <td>0.83924</td>\n",
       "      <td>0.838235</td>\n",
       "      <td>NaN</td>\n",
       "    </tr>\n",
       "  </tbody>\n",
       "</table>\n",
       "</div>"
      ],
      "text/plain": [
       "      RMSE       MAE  R-squared  Adj. R-squared  MAPE\n",
       "0  0.23403  0.182751    0.83924        0.838235   NaN"
      ]
     },
     "execution_count": 151,
     "metadata": {},
     "output_type": "execute_result"
    }
   ],
   "source": [
    "# checking model performance on train set (seen 70% data)\n",
    "print(\"Training Performance\\n\")\n",
    "olsmod2_train_perf = model_performance_regression(olsmod2, x_train3, y_train)\n",
    "olsmod2_train_perf"
   ]
  },
  {
   "cell_type": "code",
   "execution_count": 152,
   "metadata": {
    "colab": {
     "base_uri": "https://localhost:8080/",
     "height": 115
    },
    "id": "j1fAVzpM-uiy",
    "outputId": "c4deb2a4-3fa8-446e-f5c5-cd652597bc9e"
   },
   "outputs": [
    {
     "name": "stdout",
     "output_type": "stream",
     "text": [
      "Test Performance\n",
      "\n"
     ]
    },
    {
     "data": {
      "text/html": [
       "<div>\n",
       "<style scoped>\n",
       "    .dataframe tbody tr th:only-of-type {\n",
       "        vertical-align: middle;\n",
       "    }\n",
       "\n",
       "    .dataframe tbody tr th {\n",
       "        vertical-align: top;\n",
       "    }\n",
       "\n",
       "    .dataframe thead th {\n",
       "        text-align: right;\n",
       "    }\n",
       "</style>\n",
       "<table border=\"1\" class=\"dataframe\">\n",
       "  <thead>\n",
       "    <tr style=\"text-align: right;\">\n",
       "      <th></th>\n",
       "      <th>RMSE</th>\n",
       "      <th>MAE</th>\n",
       "      <th>R-squared</th>\n",
       "      <th>Adj. R-squared</th>\n",
       "      <th>MAPE</th>\n",
       "    </tr>\n",
       "  </thead>\n",
       "  <tbody>\n",
       "    <tr>\n",
       "      <th>0</th>\n",
       "      <td>0.241434</td>\n",
       "      <td>0.186649</td>\n",
       "      <td>0.838387</td>\n",
       "      <td>0.836013</td>\n",
       "      <td>NaN</td>\n",
       "    </tr>\n",
       "  </tbody>\n",
       "</table>\n",
       "</div>"
      ],
      "text/plain": [
       "       RMSE       MAE  R-squared  Adj. R-squared  MAPE\n",
       "0  0.241434  0.186649   0.838387        0.836013   NaN"
      ]
     },
     "execution_count": 152,
     "metadata": {},
     "output_type": "execute_result"
    }
   ],
   "source": [
    "# checking model performance on test set (seen 30% data)\n",
    "print(\"Test Performance\\n\")\n",
    "olsmod2_test_perf = model_performance_regression(olsmod2, x_test3, y_test)\n",
    "olsmod2_test_perf"
   ]
  },
  {
   "cell_type": "markdown",
   "metadata": {
    "id": "rQqoVoW6-uiz"
   },
   "source": [
    "**Now we'll check the rest of the assumptions on *olsmod2*.**\n",
    "\n",
    "2. **Linearity of variables**\n",
    "\n",
    "3. **Independence of error terms**\n",
    "\n",
    "4. **Normality of error terms**\n",
    "\n",
    "5. **No Heteroscedasticity**"
   ]
  },
  {
   "cell_type": "markdown",
   "metadata": {
    "id": "LMvKC4r9-uiz"
   },
   "source": [
    "### TEST FOR LINEARITY AND INDEPENDENCE\n",
    "\n",
    "- We will test for linearity and independence by making a plot of fitted values vs residuals and checking for patterns.\n",
    "- If there is no pattern, then we say the model is linear and residuals are independent.\n",
    "- Otherwise, the model is showing signs of non-linearity and residuals are not independent."
   ]
  },
  {
   "cell_type": "code",
   "execution_count": 153,
   "metadata": {
    "colab": {
     "base_uri": "https://localhost:8080/",
     "height": 206
    },
    "id": "T1zGAnp3-ui0",
    "outputId": "17807e73-bee0-4896-c200-4a640b15dac4"
   },
   "outputs": [
    {
     "data": {
      "text/html": [
       "<div>\n",
       "<style scoped>\n",
       "    .dataframe tbody tr th:only-of-type {\n",
       "        vertical-align: middle;\n",
       "    }\n",
       "\n",
       "    .dataframe tbody tr th {\n",
       "        vertical-align: top;\n",
       "    }\n",
       "\n",
       "    .dataframe thead th {\n",
       "        text-align: right;\n",
       "    }\n",
       "</style>\n",
       "<table border=\"1\" class=\"dataframe\">\n",
       "  <thead>\n",
       "    <tr style=\"text-align: right;\">\n",
       "      <th></th>\n",
       "      <th>Actual Values</th>\n",
       "      <th>Fitted Values</th>\n",
       "      <th>Residuals</th>\n",
       "    </tr>\n",
       "  </thead>\n",
       "  <tbody>\n",
       "    <tr>\n",
       "      <th>3026</th>\n",
       "      <td>4.087488</td>\n",
       "      <td>3.867319</td>\n",
       "      <td>0.220169</td>\n",
       "    </tr>\n",
       "    <tr>\n",
       "      <th>1525</th>\n",
       "      <td>4.448399</td>\n",
       "      <td>4.602001</td>\n",
       "      <td>-0.153602</td>\n",
       "    </tr>\n",
       "    <tr>\n",
       "      <th>1128</th>\n",
       "      <td>4.315353</td>\n",
       "      <td>4.286957</td>\n",
       "      <td>0.028395</td>\n",
       "    </tr>\n",
       "    <tr>\n",
       "      <th>3003</th>\n",
       "      <td>4.282068</td>\n",
       "      <td>4.195169</td>\n",
       "      <td>0.086899</td>\n",
       "    </tr>\n",
       "    <tr>\n",
       "      <th>2907</th>\n",
       "      <td>4.456438</td>\n",
       "      <td>4.490563</td>\n",
       "      <td>-0.034125</td>\n",
       "    </tr>\n",
       "  </tbody>\n",
       "</table>\n",
       "</div>"
      ],
      "text/plain": [
       "      Actual Values  Fitted Values  Residuals\n",
       "3026       4.087488       3.867319   0.220169\n",
       "1525       4.448399       4.602001  -0.153602\n",
       "1128       4.315353       4.286957   0.028395\n",
       "3003       4.282068       4.195169   0.086899\n",
       "2907       4.456438       4.490563  -0.034125"
      ]
     },
     "execution_count": 153,
     "metadata": {},
     "output_type": "execute_result"
    }
   ],
   "source": [
    "# let us create a dataframe with actual, fitted and residual values\n",
    "df_pred = pd.DataFrame()\n",
    "\n",
    "df_pred[\"Actual Values\"] = y_train  # actual values\n",
    "df_pred[\"Fitted Values\"] = olsmod2.fittedvalues  # predicted values\n",
    "df_pred[\"Residuals\"] = olsmod2.resid  # residuals\n",
    "\n",
    "df_pred.head()"
   ]
  },
  {
   "cell_type": "code",
   "execution_count": 154,
   "metadata": {
    "colab": {
     "base_uri": "https://localhost:8080/",
     "height": 295
    },
    "id": "GsI-kTDw-ui0",
    "outputId": "c2ae01ec-45a3-4c6e-d864-bcf6f5384b0e"
   },
   "outputs": [
    {
     "data": {
      "image/png": "[encoded data removed]",
      "text/plain": [
       "<Figure size 432x288 with 1 Axes>"
      ]
     },
     "metadata": {
      "needs_background": "light"
     },
     "output_type": "display_data"
    }
   ],
   "source": [
    "# let's plot the fitted values vs residuals\n",
    "\n",
    "sns.residplot(\n",
    "    data=df_pred, x=\"Fitted Values\", y=\"Residuals\", color=\"purple\", lowess=True\n",
    ")\n",
    "plt.xlabel(\"Fitted Values\")\n",
    "plt.ylabel(\"Residuals\")\n",
    "plt.title(\"Fitted vs Residual plot\")\n",
    "plt.show()"
   ]
  },
  {
   "cell_type": "markdown",
   "metadata": {
    "id": "HdMRe4v3-ui1"
   },
   "source": [
    "* The scatter plot shows the distribution of residuals (errors) vs fitted values (predicted values).\n",
    "\n",
    "* **There is no pattern in the plot above. Hence, the assumptions of linearity and independence are satisfied.**"
   ]
  },
  {
   "cell_type": "markdown",
   "metadata": {
    "id": "Rw5JFAvr-ui1"
   },
   "source": [
    "### TEST FOR NORMALITY\n",
    "\n",
    "- We will test for normality by checking the distribution of residuals, by checking the Q-Q plot of residuals, and by using the Shapiro-Wilk test.\n",
    "- If the residuals follow a normal distribution, they will make a straight line plot, otherwise not.\n",
    "- If the p-value of the Shapiro-Wilk test is greater than 0.05, we can say the residuals are normally distributed."
   ]
  },
  {
   "cell_type": "code",
   "execution_count": 155,
   "metadata": {
    "colab": {
     "base_uri": "https://localhost:8080/",
     "height": 295
    },
    "id": "rILEg5rG-ui2",
    "outputId": "75c5cf3d-7b19-4006-f896-d119f5b5b27f"
   },
   "outputs": [
    {
     "data": {
      "image/png": "[encoded data removed]",
      "text/plain": [
       "<Figure size 432x288 with 1 Axes>"
      ]
     },
     "metadata": {
      "needs_background": "light"
     },
     "output_type": "display_data"
    }
   ],
   "source": [
    "sns.histplot(data=df_pred, x=\"Residuals\", kde=True)## Complete the code to plot the distribution of residuals\n",
    "plt.title(\"Normality of residuals\")\n",
    "plt.show()"
   ]
  },
  {
   "cell_type": "markdown",
   "metadata": {
    "id": "3w_sOAZj-ui3"
   },
   "source": [
    "- The histogram of residuals does have a bell shape though not perfect\n",
    "- Let's check the Q-Q plot."
   ]
  },
  {
   "cell_type": "code",
   "execution_count": 156,
   "metadata": {
    "colab": {
     "base_uri": "https://localhost:8080/",
     "height": 295
    },
    "id": "gkjMODcQ-ui3",
    "outputId": "21d53c8a-6d9c-49ec-911b-2f12c866ed60"
   },
   "outputs": [
    {
     "data": {
      "image/png": "[encoded data removed]",
      "text/plain": [
       "<Figure size 432x288 with 1 Axes>"
      ]
     },
     "metadata": {
      "needs_background": "light"
     },
     "output_type": "display_data"
    }
   ],
   "source": [
    "import pylab\n",
    "import scipy.stats as stats\n",
    "\n",
    "stats.probplot(df_pred[\"Residuals\"], dist=\"norm\", plot=pylab)## Complete the code check Q-Q plot\n",
    "plt.show()"
   ]
  },
  {
   "cell_type": "markdown",
   "metadata": {
    "id": "rR-IMz8y-ui5"
   },
   "source": [
    "- The residuals more or less follow a straight line except for the tails.\n",
    "- Let's check the results of the Shapiro-Wilk test.\n"
   ]
  },
  {
   "cell_type": "code",
   "execution_count": 157,
   "metadata": {
    "colab": {
     "base_uri": "https://localhost:8080/"
    },
    "id": "tk9ifmF7-ui5",
    "outputId": "3fa1ffeb-0174-4020-ae6e-c2c926e2c542"
   },
   "outputs": [
    {
     "data": {
      "text/plain": [
       "ShapiroResult(statistic=0.9676972031593323, pvalue=6.995328206686811e-23)"
      ]
     },
     "execution_count": 157,
     "metadata": {},
     "output_type": "execute_result"
    }
   ],
   "source": [
    "stats.shapiro(df_pred[\"Residuals\"]) ## Complete the code to apply the Shapiro-Wilks test"
   ]
  },
  {
   "cell_type": "markdown",
   "metadata": {
    "id": "BTuy8H7J-ui6"
   },
   "source": [
    "- Since p-value < 0.05, the residuals are not normal as per the Shapiro-Wilk test.\n",
    "- Strictly speaking, the residuals are not normal.\n",
    "- However, as an approximation, we can accept this distribution as close to being normal.\n",
    "- **So, the assumption is satisfied.**"
   ]
  },
  {
   "cell_type": "markdown",
   "metadata": {
    "id": "GL2UjeFZ-ui7"
   },
   "source": [
    "### TEST FOR HOMOSCEDASTICITY\n",
    "\n",
    "\n",
    "- We will test for homoscedasticity by using the goldfeldquandt test.\n",
    "- If we get a p-value greater than 0.05, we can say that the residuals are homoscedastic. Otherwise, they are heteroscedastic."
   ]
  },
  {
   "cell_type": "code",
   "execution_count": 158,
   "metadata": {
    "colab": {
     "base_uri": "https://localhost:8080/"
    },
    "id": "qruSXd2w-ui8",
    "outputId": "667a2d9e-bc15-455d-dbc7-a7d85ed96955"
   },
   "outputs": [
    {
     "data": {
      "text/plain": [
       "[('F statistic', 1.0087504199106763), ('p-value', 0.4401970650667071)]"
      ]
     },
     "execution_count": 158,
     "metadata": {},
     "output_type": "execute_result"
    }
   ],
   "source": [
    "import statsmodels.stats.api as sms\n",
    "from statsmodels.compat import lzip\n",
    "\n",
    "name = [\"F statistic\", \"p-value\"]\n",
    "test = sms.het_goldfeldquandt(df_pred[\"Residuals\"], x_train3)## Complete the code with the right train data to apply the Goldfeldquandt test\n",
    "lzip(name, test)"
   ]
  },
  {
   "cell_type": "markdown",
   "metadata": {
    "id": "p9wiyZoH-ui9"
   },
   "source": [
    "- **Since p-value > 0.05, we can say that the residuals are homoscedastic. So, this assumption is satisfied.**"
   ]
  },
  {
   "cell_type": "markdown",
   "metadata": {
    "id": "jRYSDgFZMKtm"
   },
   "source": [
    "## Final Model"
   ]
  },
  {
   "cell_type": "code",
   "execution_count": 159,
   "metadata": {
    "id": "7IgGy0Jn-ui-"
   },
   "outputs": [],
   "source": [
    "x_train_final = x_train3.copy()\n",
    "x_test_final = x_test3.copy()"
   ]
  },
  {
   "cell_type": "code",
   "execution_count": 160,
   "metadata": {
    "colab": {
     "base_uri": "https://localhost:8080/"
    },
    "id": "x_Sqvs4TMKtn",
    "outputId": "5ba53d20-8441-4381-b49f-6ef2e7e5a05b"
   },
   "outputs": [
    {
     "name": "stdout",
     "output_type": "stream",
     "text": [
      "                              OLS Regression Results                             \n",
      "=================================================================================\n",
      "Dep. Variable:     normalized_used_price   R-squared:                       0.839\n",
      "Model:                               OLS   Adj. R-squared:                  0.838\n",
      "Method:                    Least Squares   F-statistic:                     895.7\n",
      "Date:                   Mon, 22 May 2023   Prob (F-statistic):               0.00\n",
      "Time:                           16:27:29   Log-Likelihood:                 80.645\n",
      "No. Observations:                   2417   AIC:                            -131.3\n",
      "Df Residuals:                       2402   BIC:                            -44.44\n",
      "Df Model:                             14                                         \n",
      "Covariance Type:               nonrobust                                         \n",
      "========================================================================================\n",
      "                           coef    std err          t      P>|t|      [0.025      0.975]\n",
      "----------------------------------------------------------------------------------------\n",
      "const                    1.5000      0.048     30.955      0.000       1.405       1.595\n",
      "main_camera_mp           0.0210      0.001     14.714      0.000       0.018       0.024\n",
      "selfie_camera_mp         0.0138      0.001     12.858      0.000       0.012       0.016\n",
      "ram                      0.0207      0.005      4.151      0.000       0.011       0.030\n",
      "weight                   0.0017      6e-05     27.672      0.000       0.002       0.002\n",
      "normalized_new_price     0.4415      0.011     39.337      0.000       0.419       0.463\n",
      "years_since_release     -0.0292      0.003     -8.589      0.000      -0.036      -0.023\n",
      "brand_name_Karbonn       0.1156      0.055      2.111      0.035       0.008       0.223\n",
      "brand_name_Samsung      -0.0374      0.016     -2.270      0.023      -0.070      -0.005\n",
      "brand_name_Sony         -0.0670      0.030     -2.197      0.028      -0.127      -0.007\n",
      "brand_name_Xiaomi        0.0801      0.026      3.114      0.002       0.030       0.130\n",
      "os_Others               -0.1276      0.027     -4.667      0.000      -0.181      -0.074\n",
      "os_iOS                  -0.0900      0.045     -1.994      0.046      -0.179      -0.002\n",
      "4g_yes                   0.0502      0.015      3.326      0.001       0.021       0.080\n",
      "5g_yes                  -0.0673      0.031     -2.194      0.028      -0.127      -0.007\n",
      "==============================================================================\n",
      "Omnibus:                      246.183   Durbin-Watson:                   1.902\n",
      "Prob(Omnibus):                  0.000   Jarque-Bera (JB):              483.879\n",
      "Skew:                          -0.658   Prob(JB):                    8.45e-106\n",
      "Kurtosis:                       4.753   Cond. No.                     2.39e+03\n",
      "==============================================================================\n",
      "\n",
      "Notes:\n",
      "[1] Standard Errors assume that the covariance matrix of the errors is correctly specified.\n",
      "[2] The condition number is large, 2.39e+03. This might indicate that there are\n",
      "strong multicollinearity or other numerical problems.\n"
     ]
    }
   ],
   "source": [
    "olsmodel_final = sm.OLS(y_train, x_train_final).fit()## Complete the code to fit the final model\n",
    "print(olsmodel_final.summary())"
   ]
  },
  {
   "cell_type": "code",
   "execution_count": 161,
   "metadata": {
    "colab": {
     "base_uri": "https://localhost:8080/"
    },
    "id": "TEJNN_aC-ui_",
    "outputId": "6edc8112-5f4c-49ee-e156-052d1b69c477"
   },
   "outputs": [
    {
     "name": "stdout",
     "output_type": "stream",
     "text": [
      "Training Performance\n",
      "\n"
     ]
    },
    {
     "data": {
      "text/html": [
       "<div>\n",
       "<style scoped>\n",
       "    .dataframe tbody tr th:only-of-type {\n",
       "        vertical-align: middle;\n",
       "    }\n",
       "\n",
       "    .dataframe tbody tr th {\n",
       "        vertical-align: top;\n",
       "    }\n",
       "\n",
       "    .dataframe thead th {\n",
       "        text-align: right;\n",
       "    }\n",
       "</style>\n",
       "<table border=\"1\" class=\"dataframe\">\n",
       "  <thead>\n",
       "    <tr style=\"text-align: right;\">\n",
       "      <th></th>\n",
       "      <th>RMSE</th>\n",
       "      <th>MAE</th>\n",
       "      <th>R-squared</th>\n",
       "      <th>Adj. R-squared</th>\n",
       "      <th>MAPE</th>\n",
       "    </tr>\n",
       "  </thead>\n",
       "  <tbody>\n",
       "    <tr>\n",
       "      <th>0</th>\n",
       "      <td>0.23403</td>\n",
       "      <td>0.182751</td>\n",
       "      <td>0.83924</td>\n",
       "      <td>0.838235</td>\n",
       "      <td>NaN</td>\n",
       "    </tr>\n",
       "  </tbody>\n",
       "</table>\n",
       "</div>"
      ],
      "text/plain": [
       "      RMSE       MAE  R-squared  Adj. R-squared  MAPE\n",
       "0  0.23403  0.182751    0.83924        0.838235   NaN"
      ]
     },
     "execution_count": 161,
     "metadata": {},
     "output_type": "execute_result"
    }
   ],
   "source": [
    "# checking model performance on train set (seen 70% data)\n",
    "print(\"Training Performance\\n\")\n",
    "olsmodel_final_train_perf = model_performance_regression(\n",
    "    olsmodel_final, x_train_final, y_train\n",
    ")\n",
    "olsmodel_final_train_perf"
   ]
  },
  {
   "cell_type": "code",
   "execution_count": 162,
   "metadata": {
    "colab": {
     "base_uri": "https://localhost:8080/"
    },
    "id": "Ihfbyyey-ujA",
    "outputId": "6c1d725a-cfe7-4fc7-b18f-df77352bb17f"
   },
   "outputs": [
    {
     "name": "stdout",
     "output_type": "stream",
     "text": [
      "Test Performance\n",
      "\n"
     ]
    },
    {
     "data": {
      "text/html": [
       "<div>\n",
       "<style scoped>\n",
       "    .dataframe tbody tr th:only-of-type {\n",
       "        vertical-align: middle;\n",
       "    }\n",
       "\n",
       "    .dataframe tbody tr th {\n",
       "        vertical-align: top;\n",
       "    }\n",
       "\n",
       "    .dataframe thead th {\n",
       "        text-align: right;\n",
       "    }\n",
       "</style>\n",
       "<table border=\"1\" class=\"dataframe\">\n",
       "  <thead>\n",
       "    <tr style=\"text-align: right;\">\n",
       "      <th></th>\n",
       "      <th>RMSE</th>\n",
       "      <th>MAE</th>\n",
       "      <th>R-squared</th>\n",
       "      <th>Adj. R-squared</th>\n",
       "      <th>MAPE</th>\n",
       "    </tr>\n",
       "  </thead>\n",
       "  <tbody>\n",
       "    <tr>\n",
       "      <th>0</th>\n",
       "      <td>0.241434</td>\n",
       "      <td>0.186649</td>\n",
       "      <td>0.838387</td>\n",
       "      <td>0.836013</td>\n",
       "      <td>NaN</td>\n",
       "    </tr>\n",
       "  </tbody>\n",
       "</table>\n",
       "</div>"
      ],
      "text/plain": [
       "       RMSE       MAE  R-squared  Adj. R-squared  MAPE\n",
       "0  0.241434  0.186649   0.838387        0.836013   NaN"
      ]
     },
     "execution_count": 162,
     "metadata": {},
     "output_type": "execute_result"
    }
   ],
   "source": [
    "# checking model performance on test set (seen 30% data)\n",
    "print(\"Test Performance\\n\")\n",
    "olsmodel_final_test_perf = model_performance_regression(\n",
    "    olsmodel_final, x_test_final, y_test\n",
    ")\n",
    "olsmodel_final_test_perf"
   ]
  },
  {
   "cell_type": "markdown",
   "metadata": {
    "id": "2BkZh6eHluZK"
   },
   "source": [
    "## Actionable Insights and Recommendations "
   ]
  },
  {
   "cell_type": "markdown",
   "metadata": {
    "id": "Mh_zkgqs4rqN"
   },
   "source": [
    "#### Conclusions:\n",
    "- The vast majority devices have random access memory around 4GB\n",
    "\n",
    "- Most devices have battery capacities in the range 4000 4200mAh, 3000 3200mAh, and 2000\n",
    "2200mAh\n",
    "\n",
    "- Most devices weight between 100g and 220g\n",
    "\n",
    "- Used devices have a higher probability of having earlier year of release from the years under review\n",
    "\n",
    "- The median number of days device are used is 690.5 while the mean number of days used is 674.9\n",
    "\n",
    "- The average normalized new price for devices is 5.23 while the average normalized used price is4.36\n",
    "\n",
    "- The top 10 brands of mobile devices with screen sizes more than 15.24cm are Huawei, Samsung, Vivo, Honor , Oppo, Xaomi , Lenovo, LG, Motorola and Asus\n",
    "\n",
    "- Used devices with above 4500mAh battery capacity weight between 200 grams and 500 grams\n",
    "\n",
    "- The top 10 brands of mobile devices that have selfie camera mp more than 8 are Huawei, Vivo, Oppo, Xiaomi, Samsung, Honor , LG, Motorola, Meizu and HTC\n",
    "\n",
    "- The top 10 brands of mobile devices that have main camera mp more than 16 are Sony, Motorola, HTC, ZTE, Meizu, Nokia, Microsoft, Asus, Blackberry and Samsung respectively.\n",
    "\n",
    "- The normalize used price has a positive relationship with the release year\n",
    "\n",
    "- Mobile devices having 5g command higher normalized used prices than mobile devices having 4g\n",
    "\n",
    "#### Recommendations:\n",
    "- Priority should be given to the main and selfie camera mp , ram, weight, normalized new price and year since release of a device as these are the best predictors of the normalized used price.\n",
    "\n",
    "- Priority should be given to brand such as Samsung, Huawei, LG, Lenovo and ZTE because they have a wider variety of devices and are very popular in the used market.\n",
    "\n",
    "- Priority should be given to Android os as it is the most featured operating system on devices.\n",
    "\n",
    "- Priority should be given to devices with main camera mp 13, 8 and 5 , selfie camera mp 5, 8 and 2, 4GB ram, weighing between 200g and 500g, having 4g/5g and with as little as possible the number of years since release to get the best normalized used price for the device at any given normalized new price.\n",
    "\n",
    "- An Acer device with a similar specification will have used price advantage compared to Samsung and Sony brands, but will have a disadvantage compared to Karbonn and Xaomi brands.\n"
   ]
  },
  {
   "cell_type": "markdown",
   "metadata": {
    "id": "bWXXovuh4rqN"
   },
   "source": [
    "___"
   ]
  }
 ],
 "metadata": {
  "colab": {
   "collapsed_sections": [
    "3SntBY974rqJ",
    "v_-uuGqH-qTt",
    "xxhpZv9y-qTw",
    "UvpMDcaaMKtI",
    "__7ciGcIDPyk",
    "pVn5toJ7MKte",
    "KNzFis7eEaXj",
    "HeUzI1OB4rqM",
    "jvoU3F6oMKti",
    "a9GxSQf-qH8e",
    "jRYSDgFZMKtm",
    "2BkZh6eHluZK"
   ],
   "provenance": []
  },
  "kernelspec": {
   "display_name": "Python 3 (ipykernel)",
   "language": "python",
   "name": "python3"
  },
  "language_info": {
   "codemirror_mode": {
    "name": "ipython",
    "version": 3
   },
   "file_extension": ".py",
   "mimetype": "text/x-python",
   "name": "python",
   "nbconvert_exporter": "python",
   "pygments_lexer": "ipython3",
   "version": "3.9.12"
  }
 },
 "nbformat": 4,
 "nbformat_minor": 1
}
